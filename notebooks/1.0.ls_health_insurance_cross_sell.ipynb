{
 "cells": [
  {
   "cell_type": "markdown",
   "id": "eb6b96aa",
   "metadata": {
    "tags": []
   },
   "source": [
    "# 0.0. IMPORTS"
   ]
  },
  {
   "cell_type": "code",
   "execution_count": 51,
   "id": "6c1c9d30",
   "metadata": {
    "ExecuteTime": {
     "end_time": "2022-05-20T11:41:24.313999Z",
     "start_time": "2022-05-20T11:41:24.299975Z"
    }
   },
   "outputs": [],
   "source": [
    "import pandas as pd\n",
    "import numpy as np\n",
    "import seaborn as sns\n",
    "import scikitplot as skplt\n",
    "import pickle\n",
    "import inflection\n",
    "import xgboost as xgb\n",
    "\n",
    "from matplotlib import pyplot as plt\n",
    "from sklearn import preprocessing as pp\n",
    "from sklearn import model_selection as ms\n",
    "from sklearn import ensemble as en\n",
    "from sklearn import neighbors as nh\n",
    "from sklearn import linear_model as lm"
   ]
  },
  {
   "cell_type": "markdown",
   "id": "3e5e70c7",
   "metadata": {
    "heading_collapsed": true,
    "jp-MarkdownHeadingCollapsed": true,
    "tags": []
   },
   "source": [
    "## 0.1. Helper Functions"
   ]
  },
  {
   "cell_type": "markdown",
   "id": "15e13b5f",
   "metadata": {
    "heading_collapsed": true
   },
   "source": [
    "## 0.2. Load Data"
   ]
  },
  {
   "cell_type": "code",
   "execution_count": 2,
   "id": "8970b2ef",
   "metadata": {
    "ExecuteTime": {
     "end_time": "2022-05-20T09:33:26.901931Z",
     "start_time": "2022-05-20T09:33:26.562408Z"
    },
    "hidden": true
   },
   "outputs": [],
   "source": [
    "df_raw = pd.read_csv('../data/raw/train.csv')"
   ]
  },
  {
   "cell_type": "code",
   "execution_count": 3,
   "id": "c8c04f82",
   "metadata": {
    "ExecuteTime": {
     "end_time": "2022-05-20T09:33:26.932907Z",
     "start_time": "2022-05-20T09:33:26.903909Z"
    },
    "hidden": true
   },
   "outputs": [
    {
     "data": {
      "text/html": [
       "<div>\n",
       "<style scoped>\n",
       "    .dataframe tbody tr th:only-of-type {\n",
       "        vertical-align: middle;\n",
       "    }\n",
       "\n",
       "    .dataframe tbody tr th {\n",
       "        vertical-align: top;\n",
       "    }\n",
       "\n",
       "    .dataframe thead th {\n",
       "        text-align: right;\n",
       "    }\n",
       "</style>\n",
       "<table border=\"1\" class=\"dataframe\">\n",
       "  <thead>\n",
       "    <tr style=\"text-align: right;\">\n",
       "      <th></th>\n",
       "      <th>id</th>\n",
       "      <th>gender</th>\n",
       "      <th>age</th>\n",
       "      <th>driving_license</th>\n",
       "      <th>region_code</th>\n",
       "      <th>previously_insured</th>\n",
       "      <th>vehicle_age</th>\n",
       "      <th>vehicle_damage</th>\n",
       "      <th>annual_premium</th>\n",
       "      <th>policy_sales_channel</th>\n",
       "      <th>vintage</th>\n",
       "      <th>response</th>\n",
       "    </tr>\n",
       "  </thead>\n",
       "  <tbody>\n",
       "    <tr>\n",
       "      <th>0</th>\n",
       "      <td>7</td>\n",
       "      <td>Male</td>\n",
       "      <td>23</td>\n",
       "      <td>1</td>\n",
       "      <td>11.0</td>\n",
       "      <td>0</td>\n",
       "      <td>&lt; 1 Year</td>\n",
       "      <td>Yes</td>\n",
       "      <td>23367.0</td>\n",
       "      <td>152.0</td>\n",
       "      <td>249</td>\n",
       "      <td>0</td>\n",
       "    </tr>\n",
       "    <tr>\n",
       "      <th>1</th>\n",
       "      <td>13</td>\n",
       "      <td>Female</td>\n",
       "      <td>41</td>\n",
       "      <td>1</td>\n",
       "      <td>15.0</td>\n",
       "      <td>1</td>\n",
       "      <td>1-2 Year</td>\n",
       "      <td>No</td>\n",
       "      <td>31409.0</td>\n",
       "      <td>14.0</td>\n",
       "      <td>221</td>\n",
       "      <td>0</td>\n",
       "    </tr>\n",
       "    <tr>\n",
       "      <th>2</th>\n",
       "      <td>18</td>\n",
       "      <td>Female</td>\n",
       "      <td>25</td>\n",
       "      <td>1</td>\n",
       "      <td>35.0</td>\n",
       "      <td>1</td>\n",
       "      <td>&lt; 1 Year</td>\n",
       "      <td>No</td>\n",
       "      <td>46622.0</td>\n",
       "      <td>152.0</td>\n",
       "      <td>299</td>\n",
       "      <td>0</td>\n",
       "    </tr>\n",
       "    <tr>\n",
       "      <th>3</th>\n",
       "      <td>31</td>\n",
       "      <td>Female</td>\n",
       "      <td>26</td>\n",
       "      <td>1</td>\n",
       "      <td>8.0</td>\n",
       "      <td>0</td>\n",
       "      <td>&lt; 1 Year</td>\n",
       "      <td>No</td>\n",
       "      <td>2630.0</td>\n",
       "      <td>160.0</td>\n",
       "      <td>136</td>\n",
       "      <td>0</td>\n",
       "    </tr>\n",
       "    <tr>\n",
       "      <th>4</th>\n",
       "      <td>39</td>\n",
       "      <td>Male</td>\n",
       "      <td>45</td>\n",
       "      <td>1</td>\n",
       "      <td>8.0</td>\n",
       "      <td>0</td>\n",
       "      <td>1-2 Year</td>\n",
       "      <td>Yes</td>\n",
       "      <td>42297.0</td>\n",
       "      <td>124.0</td>\n",
       "      <td>264</td>\n",
       "      <td>0</td>\n",
       "    </tr>\n",
       "  </tbody>\n",
       "</table>\n",
       "</div>"
      ],
      "text/plain": [
       "   id  gender  age  driving_license  region_code  previously_insured  \\\n",
       "0   7    Male   23                1         11.0                   0   \n",
       "1  13  Female   41                1         15.0                   1   \n",
       "2  18  Female   25                1         35.0                   1   \n",
       "3  31  Female   26                1          8.0                   0   \n",
       "4  39    Male   45                1          8.0                   0   \n",
       "\n",
       "  vehicle_age vehicle_damage  annual_premium  policy_sales_channel  vintage  \\\n",
       "0    < 1 Year            Yes         23367.0                 152.0      249   \n",
       "1    1-2 Year             No         31409.0                  14.0      221   \n",
       "2    < 1 Year             No         46622.0                 152.0      299   \n",
       "3    < 1 Year             No          2630.0                 160.0      136   \n",
       "4    1-2 Year            Yes         42297.0                 124.0      264   \n",
       "\n",
       "   response  \n",
       "0         0  \n",
       "1         0  \n",
       "2         0  \n",
       "3         0  \n",
       "4         0  "
      ]
     },
     "execution_count": 3,
     "metadata": {},
     "output_type": "execute_result"
    }
   ],
   "source": [
    "df_raw.head()"
   ]
  },
  {
   "cell_type": "markdown",
   "id": "9c11c1ef",
   "metadata": {
    "tags": []
   },
   "source": [
    "# 1.0. Descrição dos Dados"
   ]
  },
  {
   "cell_type": "code",
   "execution_count": 4,
   "id": "e41e2f61",
   "metadata": {
    "ExecuteTime": {
     "end_time": "2022-05-20T11:41:12.403592Z",
     "start_time": "2022-05-20T11:41:11.519815Z"
    }
   },
   "outputs": [],
   "source": [
    "df1 = df_raw.copy()"
   ]
  },
  {
   "cell_type": "code",
   "execution_count": 5,
   "id": "89042e6d",
   "metadata": {
    "ExecuteTime": {
     "end_time": "2022-05-20T11:41:26.189492Z",
     "start_time": "2022-05-20T11:41:26.176485Z"
    }
   },
   "outputs": [],
   "source": [
    "snakecase = lambda x: inflection.underscore( x )\n",
    "\n",
    "cols_new = list( map( snakecase, df_raw.columns))\n",
    "\n",
    "df1.columns = cols_new"
   ]
  },
  {
   "cell_type": "code",
   "execution_count": 6,
   "id": "7d0f5a5f",
   "metadata": {
    "ExecuteTime": {
     "end_time": "2022-05-20T11:41:37.210776Z",
     "start_time": "2022-05-20T11:41:37.202776Z"
    }
   },
   "outputs": [
    {
     "data": {
      "text/plain": [
       "Index(['id', 'gender', 'age', 'driving_license', 'region_code',\n",
       "       'previously_insured', 'vehicle_age', 'vehicle_damage', 'annual_premium',\n",
       "       'policy_sales_channel', 'vintage', 'response'],\n",
       "      dtype='object')"
      ]
     },
     "execution_count": 6,
     "metadata": {},
     "output_type": "execute_result"
    }
   ],
   "source": [
    "df1.columns"
   ]
  },
  {
   "cell_type": "code",
   "execution_count": 7,
   "id": "0a8a0e14",
   "metadata": {
    "ExecuteTime": {
     "end_time": "2022-05-20T09:33:26.979406Z",
     "start_time": "2022-05-20T09:33:26.965408Z"
    }
   },
   "outputs": [],
   "source": [
    "# cols_new = ['id', 'gender', 'age', 'driving_license', 'region_code',\n",
    "#        'previously_insured', 'vehicle_age', 'vehicle_damage', 'annual_premium',\n",
    "#        'policy_sales_channel', 'vintage', 'response']\n",
    "\n",
    "# df1.columns = cols_new"
   ]
  },
  {
   "cell_type": "markdown",
   "id": "a4c2a270",
   "metadata": {},
   "source": [
    "## 1.1. Dimensão dos Dados"
   ]
  },
  {
   "cell_type": "code",
   "execution_count": 8,
   "id": "e1cdd0ce",
   "metadata": {
    "ExecuteTime": {
     "end_time": "2022-05-20T09:33:26.994906Z",
     "start_time": "2022-05-20T09:33:26.980408Z"
    }
   },
   "outputs": [
    {
     "name": "stdout",
     "output_type": "stream",
     "text": [
      "Número de linhas: 381109\n",
      "Número de Colunas: 12\n"
     ]
    }
   ],
   "source": [
    "print(f'Número de linhas: {df1.shape[0]}')\n",
    "print(f'Número de Colunas: {df1.shape[1]}')"
   ]
  },
  {
   "cell_type": "markdown",
   "id": "845dee8f",
   "metadata": {
    "tags": []
   },
   "source": [
    "## 1.2. Tipo dos Dados"
   ]
  },
  {
   "cell_type": "code",
   "execution_count": 9,
   "id": "83ea5c78",
   "metadata": {
    "ExecuteTime": {
     "end_time": "2022-05-20T09:33:27.010406Z",
     "start_time": "2022-05-20T09:33:26.995907Z"
    }
   },
   "outputs": [
    {
     "data": {
      "text/plain": [
       "id                        int64\n",
       "gender                   object\n",
       "age                       int64\n",
       "driving_license           int64\n",
       "region_code             float64\n",
       "previously_insured        int64\n",
       "vehicle_age              object\n",
       "vehicle_damage           object\n",
       "annual_premium          float64\n",
       "policy_sales_channel    float64\n",
       "vintage                   int64\n",
       "response                  int64\n",
       "dtype: object"
      ]
     },
     "execution_count": 9,
     "metadata": {},
     "output_type": "execute_result"
    }
   ],
   "source": [
    "df1.dtypes"
   ]
  },
  {
   "cell_type": "markdown",
   "id": "3b60d4e9",
   "metadata": {
    "heading_collapsed": true
   },
   "source": [
    "## 1.3. Valida NA"
   ]
  },
  {
   "cell_type": "code",
   "execution_count": 10,
   "id": "299bd251",
   "metadata": {
    "ExecuteTime": {
     "end_time": "2022-05-20T09:33:27.056907Z",
     "start_time": "2022-05-20T09:33:27.011407Z"
    },
    "hidden": true
   },
   "outputs": [
    {
     "data": {
      "text/plain": [
       "id                      0\n",
       "gender                  0\n",
       "age                     0\n",
       "driving_license         0\n",
       "region_code             0\n",
       "previously_insured      0\n",
       "vehicle_age             0\n",
       "vehicle_damage          0\n",
       "annual_premium          0\n",
       "policy_sales_channel    0\n",
       "vintage                 0\n",
       "response                0\n",
       "dtype: int64"
      ]
     },
     "execution_count": 10,
     "metadata": {},
     "output_type": "execute_result"
    }
   ],
   "source": [
    "df1.isna().sum()"
   ]
  },
  {
   "cell_type": "markdown",
   "id": "7b74391d",
   "metadata": {
    "heading_collapsed": true
   },
   "source": [
    "## 1.4. Análise Descritiva"
   ]
  },
  {
   "cell_type": "code",
   "execution_count": 11,
   "id": "ecfa8534",
   "metadata": {
    "ExecuteTime": {
     "end_time": "2022-05-20T09:33:27.087908Z",
     "start_time": "2022-05-20T09:33:27.059907Z"
    },
    "hidden": true
   },
   "outputs": [],
   "source": [
    "num_attributes = df1.select_dtypes( include=['int64', 'float64'])\n",
    "cat_attributes = df1.select_dtypes( exclude=['int64', 'float64', 'datetime64[ns]'])"
   ]
  },
  {
   "cell_type": "code",
   "execution_count": 12,
   "id": "b93e2c8d",
   "metadata": {
    "ExecuteTime": {
     "end_time": "2022-05-20T09:33:27.335906Z",
     "start_time": "2022-05-20T09:33:27.089411Z"
    },
    "hidden": true
   },
   "outputs": [
    {
     "data": {
      "text/html": [
       "<div>\n",
       "<style scoped>\n",
       "    .dataframe tbody tr th:only-of-type {\n",
       "        vertical-align: middle;\n",
       "    }\n",
       "\n",
       "    .dataframe tbody tr th {\n",
       "        vertical-align: top;\n",
       "    }\n",
       "\n",
       "    .dataframe thead th {\n",
       "        text-align: right;\n",
       "    }\n",
       "</style>\n",
       "<table border=\"1\" class=\"dataframe\">\n",
       "  <thead>\n",
       "    <tr style=\"text-align: right;\">\n",
       "      <th></th>\n",
       "      <th>attributes</th>\n",
       "      <th>min</th>\n",
       "      <th>max</th>\n",
       "      <th>range</th>\n",
       "      <th>mean</th>\n",
       "      <th>median</th>\n",
       "      <th>std</th>\n",
       "      <th>skew</th>\n",
       "      <th>kurtosis</th>\n",
       "    </tr>\n",
       "  </thead>\n",
       "  <tbody>\n",
       "    <tr>\n",
       "      <th>0</th>\n",
       "      <td>id</td>\n",
       "      <td>1.0</td>\n",
       "      <td>381109.0</td>\n",
       "      <td>381108.0</td>\n",
       "      <td>190555.000000</td>\n",
       "      <td>190555.0</td>\n",
       "      <td>110016.691870</td>\n",
       "      <td>-8.071174e-18</td>\n",
       "      <td>-1.200000</td>\n",
       "    </tr>\n",
       "    <tr>\n",
       "      <th>1</th>\n",
       "      <td>age</td>\n",
       "      <td>20.0</td>\n",
       "      <td>85.0</td>\n",
       "      <td>65.0</td>\n",
       "      <td>38.822584</td>\n",
       "      <td>36.0</td>\n",
       "      <td>15.511591</td>\n",
       "      <td>6.725390e-01</td>\n",
       "      <td>-0.565655</td>\n",
       "    </tr>\n",
       "    <tr>\n",
       "      <th>2</th>\n",
       "      <td>driving_license</td>\n",
       "      <td>0.0</td>\n",
       "      <td>1.0</td>\n",
       "      <td>1.0</td>\n",
       "      <td>0.997869</td>\n",
       "      <td>1.0</td>\n",
       "      <td>0.046109</td>\n",
       "      <td>-2.159518e+01</td>\n",
       "      <td>464.354302</td>\n",
       "    </tr>\n",
       "    <tr>\n",
       "      <th>3</th>\n",
       "      <td>region_code</td>\n",
       "      <td>0.0</td>\n",
       "      <td>52.0</td>\n",
       "      <td>52.0</td>\n",
       "      <td>26.388807</td>\n",
       "      <td>28.0</td>\n",
       "      <td>13.229871</td>\n",
       "      <td>-1.152664e-01</td>\n",
       "      <td>-0.867857</td>\n",
       "    </tr>\n",
       "    <tr>\n",
       "      <th>4</th>\n",
       "      <td>previously_insured</td>\n",
       "      <td>0.0</td>\n",
       "      <td>1.0</td>\n",
       "      <td>1.0</td>\n",
       "      <td>0.458210</td>\n",
       "      <td>0.0</td>\n",
       "      <td>0.498251</td>\n",
       "      <td>1.677471e-01</td>\n",
       "      <td>-1.971871</td>\n",
       "    </tr>\n",
       "    <tr>\n",
       "      <th>5</th>\n",
       "      <td>annual_premium</td>\n",
       "      <td>2630.0</td>\n",
       "      <td>540165.0</td>\n",
       "      <td>537535.0</td>\n",
       "      <td>30564.389581</td>\n",
       "      <td>31669.0</td>\n",
       "      <td>17213.132474</td>\n",
       "      <td>1.766087e+00</td>\n",
       "      <td>34.004569</td>\n",
       "    </tr>\n",
       "    <tr>\n",
       "      <th>6</th>\n",
       "      <td>policy_sales_channel</td>\n",
       "      <td>1.0</td>\n",
       "      <td>163.0</td>\n",
       "      <td>162.0</td>\n",
       "      <td>112.034295</td>\n",
       "      <td>133.0</td>\n",
       "      <td>54.203924</td>\n",
       "      <td>-9.000081e-01</td>\n",
       "      <td>-0.970810</td>\n",
       "    </tr>\n",
       "    <tr>\n",
       "      <th>7</th>\n",
       "      <td>vintage</td>\n",
       "      <td>10.0</td>\n",
       "      <td>299.0</td>\n",
       "      <td>289.0</td>\n",
       "      <td>154.347397</td>\n",
       "      <td>154.0</td>\n",
       "      <td>83.671194</td>\n",
       "      <td>3.029517e-03</td>\n",
       "      <td>-1.200688</td>\n",
       "    </tr>\n",
       "    <tr>\n",
       "      <th>8</th>\n",
       "      <td>response</td>\n",
       "      <td>0.0</td>\n",
       "      <td>1.0</td>\n",
       "      <td>1.0</td>\n",
       "      <td>0.122563</td>\n",
       "      <td>0.0</td>\n",
       "      <td>0.327935</td>\n",
       "      <td>2.301906e+00</td>\n",
       "      <td>3.298788</td>\n",
       "    </tr>\n",
       "  </tbody>\n",
       "</table>\n",
       "</div>"
      ],
      "text/plain": [
       "             attributes     min       max     range           mean    median  \\\n",
       "0                    id     1.0  381109.0  381108.0  190555.000000  190555.0   \n",
       "1                   age    20.0      85.0      65.0      38.822584      36.0   \n",
       "2       driving_license     0.0       1.0       1.0       0.997869       1.0   \n",
       "3           region_code     0.0      52.0      52.0      26.388807      28.0   \n",
       "4    previously_insured     0.0       1.0       1.0       0.458210       0.0   \n",
       "5        annual_premium  2630.0  540165.0  537535.0   30564.389581   31669.0   \n",
       "6  policy_sales_channel     1.0     163.0     162.0     112.034295     133.0   \n",
       "7               vintage    10.0     299.0     289.0     154.347397     154.0   \n",
       "8              response     0.0       1.0       1.0       0.122563       0.0   \n",
       "\n",
       "             std          skew    kurtosis  \n",
       "0  110016.691870 -8.071174e-18   -1.200000  \n",
       "1      15.511591  6.725390e-01   -0.565655  \n",
       "2       0.046109 -2.159518e+01  464.354302  \n",
       "3      13.229871 -1.152664e-01   -0.867857  \n",
       "4       0.498251  1.677471e-01   -1.971871  \n",
       "5   17213.132474  1.766087e+00   34.004569  \n",
       "6      54.203924 -9.000081e-01   -0.970810  \n",
       "7      83.671194  3.029517e-03   -1.200688  \n",
       "8       0.327935  2.301906e+00    3.298788  "
      ]
     },
     "execution_count": 12,
     "metadata": {},
     "output_type": "execute_result"
    }
   ],
   "source": [
    "# Tendencia central - mean, median\n",
    "ct1 = pd.DataFrame( num_attributes.apply( np.mean ) ).T\n",
    "ct2 = pd.DataFrame( num_attributes.apply( np.median ) ).T\n",
    "\n",
    "# Dispersão - std, min, max, range, knew, kurtosis\n",
    "d1 = pd.DataFrame( num_attributes.apply( np.std ) ).T\n",
    "d2 = pd.DataFrame( num_attributes.apply( np.min ) ).T\n",
    "d3 = pd.DataFrame( num_attributes.apply( np.max ) ).T\n",
    "d4 = pd.DataFrame( num_attributes.apply( lambda x: x.max() - x.min() ) ).T\n",
    "d5 = pd.DataFrame( num_attributes.apply( lambda x: x.skew() ) ).T\n",
    "d6 = pd.DataFrame( num_attributes.apply( lambda x: x.kurtosis() ) ).T\n",
    "\n",
    "# Concatenar\n",
    "m = pd.concat( [d2, d3, d4, ct1, ct2, d1, d5, d6] ).T.reset_index()\n",
    "m.columns =['attributes', 'min', 'max', 'range', 'mean', 'median', 'std', 'skew', 'kurtosis']\n",
    "\n",
    "m\n"
   ]
  },
  {
   "cell_type": "markdown",
   "id": "44696217",
   "metadata": {
    "tags": []
   },
   "source": [
    "# 2.0. Feature Engineering"
   ]
  },
  {
   "cell_type": "code",
   "execution_count": 13,
   "id": "beb595d9",
   "metadata": {
    "ExecuteTime": {
     "end_time": "2022-05-20T09:33:27.351407Z",
     "start_time": "2022-05-20T09:33:27.336907Z"
    }
   },
   "outputs": [],
   "source": [
    "df2 = df1.copy()"
   ]
  },
  {
   "cell_type": "code",
   "execution_count": 14,
   "id": "9e475d32",
   "metadata": {
    "ExecuteTime": {
     "end_time": "2022-05-20T09:33:27.366931Z",
     "start_time": "2022-05-20T09:33:27.352437Z"
    }
   },
   "outputs": [
    {
     "data": {
      "text/html": [
       "<div>\n",
       "<style scoped>\n",
       "    .dataframe tbody tr th:only-of-type {\n",
       "        vertical-align: middle;\n",
       "    }\n",
       "\n",
       "    .dataframe tbody tr th {\n",
       "        vertical-align: top;\n",
       "    }\n",
       "\n",
       "    .dataframe thead th {\n",
       "        text-align: right;\n",
       "    }\n",
       "</style>\n",
       "<table border=\"1\" class=\"dataframe\">\n",
       "  <thead>\n",
       "    <tr style=\"text-align: right;\">\n",
       "      <th></th>\n",
       "      <th>id</th>\n",
       "      <th>gender</th>\n",
       "      <th>age</th>\n",
       "      <th>driving_license</th>\n",
       "      <th>region_code</th>\n",
       "      <th>previously_insured</th>\n",
       "      <th>vehicle_age</th>\n",
       "      <th>vehicle_damage</th>\n",
       "      <th>annual_premium</th>\n",
       "      <th>policy_sales_channel</th>\n",
       "      <th>vintage</th>\n",
       "      <th>response</th>\n",
       "    </tr>\n",
       "  </thead>\n",
       "  <tbody>\n",
       "    <tr>\n",
       "      <th>0</th>\n",
       "      <td>7</td>\n",
       "      <td>Male</td>\n",
       "      <td>23</td>\n",
       "      <td>1</td>\n",
       "      <td>11.0</td>\n",
       "      <td>0</td>\n",
       "      <td>&lt; 1 Year</td>\n",
       "      <td>Yes</td>\n",
       "      <td>23367.0</td>\n",
       "      <td>152.0</td>\n",
       "      <td>249</td>\n",
       "      <td>0</td>\n",
       "    </tr>\n",
       "    <tr>\n",
       "      <th>1</th>\n",
       "      <td>13</td>\n",
       "      <td>Female</td>\n",
       "      <td>41</td>\n",
       "      <td>1</td>\n",
       "      <td>15.0</td>\n",
       "      <td>1</td>\n",
       "      <td>1-2 Year</td>\n",
       "      <td>No</td>\n",
       "      <td>31409.0</td>\n",
       "      <td>14.0</td>\n",
       "      <td>221</td>\n",
       "      <td>0</td>\n",
       "    </tr>\n",
       "    <tr>\n",
       "      <th>2</th>\n",
       "      <td>18</td>\n",
       "      <td>Female</td>\n",
       "      <td>25</td>\n",
       "      <td>1</td>\n",
       "      <td>35.0</td>\n",
       "      <td>1</td>\n",
       "      <td>&lt; 1 Year</td>\n",
       "      <td>No</td>\n",
       "      <td>46622.0</td>\n",
       "      <td>152.0</td>\n",
       "      <td>299</td>\n",
       "      <td>0</td>\n",
       "    </tr>\n",
       "    <tr>\n",
       "      <th>3</th>\n",
       "      <td>31</td>\n",
       "      <td>Female</td>\n",
       "      <td>26</td>\n",
       "      <td>1</td>\n",
       "      <td>8.0</td>\n",
       "      <td>0</td>\n",
       "      <td>&lt; 1 Year</td>\n",
       "      <td>No</td>\n",
       "      <td>2630.0</td>\n",
       "      <td>160.0</td>\n",
       "      <td>136</td>\n",
       "      <td>0</td>\n",
       "    </tr>\n",
       "    <tr>\n",
       "      <th>4</th>\n",
       "      <td>39</td>\n",
       "      <td>Male</td>\n",
       "      <td>45</td>\n",
       "      <td>1</td>\n",
       "      <td>8.0</td>\n",
       "      <td>0</td>\n",
       "      <td>1-2 Year</td>\n",
       "      <td>Yes</td>\n",
       "      <td>42297.0</td>\n",
       "      <td>124.0</td>\n",
       "      <td>264</td>\n",
       "      <td>0</td>\n",
       "    </tr>\n",
       "  </tbody>\n",
       "</table>\n",
       "</div>"
      ],
      "text/plain": [
       "   id  gender  age  driving_license  region_code  previously_insured  \\\n",
       "0   7    Male   23                1         11.0                   0   \n",
       "1  13  Female   41                1         15.0                   1   \n",
       "2  18  Female   25                1         35.0                   1   \n",
       "3  31  Female   26                1          8.0                   0   \n",
       "4  39    Male   45                1          8.0                   0   \n",
       "\n",
       "  vehicle_age vehicle_damage  annual_premium  policy_sales_channel  vintage  \\\n",
       "0    < 1 Year            Yes         23367.0                 152.0      249   \n",
       "1    1-2 Year             No         31409.0                  14.0      221   \n",
       "2    < 1 Year             No         46622.0                 152.0      299   \n",
       "3    < 1 Year             No          2630.0                 160.0      136   \n",
       "4    1-2 Year            Yes         42297.0                 124.0      264   \n",
       "\n",
       "   response  \n",
       "0         0  \n",
       "1         0  \n",
       "2         0  \n",
       "3         0  \n",
       "4         0  "
      ]
     },
     "execution_count": 14,
     "metadata": {},
     "output_type": "execute_result"
    }
   ],
   "source": [
    "df2.head()"
   ]
  },
  {
   "cell_type": "code",
   "execution_count": 15,
   "id": "8cf5a9f2",
   "metadata": {
    "ExecuteTime": {
     "end_time": "2022-05-20T09:33:27.398411Z",
     "start_time": "2022-05-20T09:33:27.368909Z"
    }
   },
   "outputs": [
    {
     "data": {
      "text/plain": [
       "0      < 1 Year\n",
       "1      1-2 Year\n",
       "27    > 2 Years\n",
       "Name: vehicle_age, dtype: object"
      ]
     },
     "execution_count": 15,
     "metadata": {},
     "output_type": "execute_result"
    }
   ],
   "source": [
    "df2['vehicle_age'].drop_duplicates()"
   ]
  },
  {
   "cell_type": "code",
   "execution_count": 16,
   "id": "d8668cb7",
   "metadata": {
    "ExecuteTime": {
     "end_time": "2022-05-20T09:33:27.583906Z",
     "start_time": "2022-05-20T09:33:27.400413Z"
    }
   },
   "outputs": [],
   "source": [
    "# Vehicle age\n",
    "df2['vehicle_age'] = df2['vehicle_age'].apply( lambda x: 'over_2_years' if x == '> 2 Years' else 'between_1_2_year' \n",
    "                                                   if x == '1-2 Year' else 'below_1_year' )\n",
    "\n",
    "# vehicle damage\n",
    "df2['vehicle_damage'] = df2['vehicle_damage'].apply( lambda x: 1 if x == 'Yes' else 0 ) "
   ]
  },
  {
   "cell_type": "markdown",
   "id": "2d4df632",
   "metadata": {
    "heading_collapsed": true,
    "tags": []
   },
   "source": [
    "# 3.0. Filtragem dos Dados"
   ]
  },
  {
   "cell_type": "code",
   "execution_count": 17,
   "id": "5fad010d",
   "metadata": {
    "ExecuteTime": {
     "end_time": "2022-05-20T09:33:27.630406Z",
     "start_time": "2022-05-20T09:33:27.585407Z"
    },
    "hidden": true
   },
   "outputs": [],
   "source": [
    "df3 = df2.copy()"
   ]
  },
  {
   "cell_type": "markdown",
   "id": "62420fe4",
   "metadata": {
    "hidden": true
   },
   "source": [
    "Como não tem dados visivelmente discrepantes ou com outlayers não farei filtragem neste ciclo."
   ]
  },
  {
   "cell_type": "markdown",
   "id": "4db3fbd5",
   "metadata": {
    "heading_collapsed": true
   },
   "source": [
    "# 4.0. Análise Exploratória dos Dados"
   ]
  },
  {
   "cell_type": "code",
   "execution_count": 18,
   "id": "01933179",
   "metadata": {
    "ExecuteTime": {
     "end_time": "2022-05-20T09:33:27.661406Z",
     "start_time": "2022-05-20T09:33:27.632410Z"
    },
    "hidden": true
   },
   "outputs": [],
   "source": [
    "df4 = df3.copy()"
   ]
  },
  {
   "cell_type": "code",
   "execution_count": 19,
   "id": "d2bd816a-9d7f-4dfb-ba39-954d4d112014",
   "metadata": {},
   "outputs": [
    {
     "data": {
      "text/html": [
       "<div>\n",
       "<style scoped>\n",
       "    .dataframe tbody tr th:only-of-type {\n",
       "        vertical-align: middle;\n",
       "    }\n",
       "\n",
       "    .dataframe tbody tr th {\n",
       "        vertical-align: top;\n",
       "    }\n",
       "\n",
       "    .dataframe thead th {\n",
       "        text-align: right;\n",
       "    }\n",
       "</style>\n",
       "<table border=\"1\" class=\"dataframe\">\n",
       "  <thead>\n",
       "    <tr style=\"text-align: right;\">\n",
       "      <th></th>\n",
       "      <th>id</th>\n",
       "      <th>gender</th>\n",
       "      <th>age</th>\n",
       "      <th>driving_license</th>\n",
       "      <th>region_code</th>\n",
       "      <th>previously_insured</th>\n",
       "      <th>vehicle_age</th>\n",
       "      <th>vehicle_damage</th>\n",
       "      <th>annual_premium</th>\n",
       "      <th>policy_sales_channel</th>\n",
       "      <th>vintage</th>\n",
       "      <th>response</th>\n",
       "    </tr>\n",
       "  </thead>\n",
       "  <tbody>\n",
       "    <tr>\n",
       "      <th>0</th>\n",
       "      <td>7</td>\n",
       "      <td>Male</td>\n",
       "      <td>23</td>\n",
       "      <td>1</td>\n",
       "      <td>11.0</td>\n",
       "      <td>0</td>\n",
       "      <td>below_1_year</td>\n",
       "      <td>1</td>\n",
       "      <td>23367.0</td>\n",
       "      <td>152.0</td>\n",
       "      <td>249</td>\n",
       "      <td>0</td>\n",
       "    </tr>\n",
       "    <tr>\n",
       "      <th>1</th>\n",
       "      <td>13</td>\n",
       "      <td>Female</td>\n",
       "      <td>41</td>\n",
       "      <td>1</td>\n",
       "      <td>15.0</td>\n",
       "      <td>1</td>\n",
       "      <td>between_1_2_year</td>\n",
       "      <td>0</td>\n",
       "      <td>31409.0</td>\n",
       "      <td>14.0</td>\n",
       "      <td>221</td>\n",
       "      <td>0</td>\n",
       "    </tr>\n",
       "    <tr>\n",
       "      <th>2</th>\n",
       "      <td>18</td>\n",
       "      <td>Female</td>\n",
       "      <td>25</td>\n",
       "      <td>1</td>\n",
       "      <td>35.0</td>\n",
       "      <td>1</td>\n",
       "      <td>below_1_year</td>\n",
       "      <td>0</td>\n",
       "      <td>46622.0</td>\n",
       "      <td>152.0</td>\n",
       "      <td>299</td>\n",
       "      <td>0</td>\n",
       "    </tr>\n",
       "    <tr>\n",
       "      <th>3</th>\n",
       "      <td>31</td>\n",
       "      <td>Female</td>\n",
       "      <td>26</td>\n",
       "      <td>1</td>\n",
       "      <td>8.0</td>\n",
       "      <td>0</td>\n",
       "      <td>below_1_year</td>\n",
       "      <td>0</td>\n",
       "      <td>2630.0</td>\n",
       "      <td>160.0</td>\n",
       "      <td>136</td>\n",
       "      <td>0</td>\n",
       "    </tr>\n",
       "    <tr>\n",
       "      <th>4</th>\n",
       "      <td>39</td>\n",
       "      <td>Male</td>\n",
       "      <td>45</td>\n",
       "      <td>1</td>\n",
       "      <td>8.0</td>\n",
       "      <td>0</td>\n",
       "      <td>between_1_2_year</td>\n",
       "      <td>1</td>\n",
       "      <td>42297.0</td>\n",
       "      <td>124.0</td>\n",
       "      <td>264</td>\n",
       "      <td>0</td>\n",
       "    </tr>\n",
       "  </tbody>\n",
       "</table>\n",
       "</div>"
      ],
      "text/plain": [
       "   id  gender  age  driving_license  region_code  previously_insured  \\\n",
       "0   7    Male   23                1         11.0                   0   \n",
       "1  13  Female   41                1         15.0                   1   \n",
       "2  18  Female   25                1         35.0                   1   \n",
       "3  31  Female   26                1          8.0                   0   \n",
       "4  39    Male   45                1          8.0                   0   \n",
       "\n",
       "        vehicle_age  vehicle_damage  annual_premium  policy_sales_channel  \\\n",
       "0      below_1_year               1         23367.0                 152.0   \n",
       "1  between_1_2_year               0         31409.0                  14.0   \n",
       "2      below_1_year               0         46622.0                 152.0   \n",
       "3      below_1_year               0          2630.0                 160.0   \n",
       "4  between_1_2_year               1         42297.0                 124.0   \n",
       "\n",
       "   vintage  response  \n",
       "0      249         0  \n",
       "1      221         0  \n",
       "2      299         0  \n",
       "3      136         0  \n",
       "4      264         0  "
      ]
     },
     "execution_count": 19,
     "metadata": {},
     "output_type": "execute_result"
    }
   ],
   "source": [
    "df3.head()"
   ]
  },
  {
   "cell_type": "markdown",
   "id": "2d815e98",
   "metadata": {
    "heading_collapsed": true,
    "hidden": true,
    "tags": []
   },
   "source": [
    "## 4.1. Análise Univariada"
   ]
  },
  {
   "cell_type": "code",
   "execution_count": 20,
   "id": "e0105aff",
   "metadata": {
    "ExecuteTime": {
     "end_time": "2022-05-20T09:33:27.878407Z",
     "start_time": "2022-05-20T09:33:27.663409Z"
    },
    "hidden": true
   },
   "outputs": [
    {
     "data": {
      "text/plain": [
       "<AxesSubplot:xlabel='response', ylabel='age'>"
      ]
     },
     "execution_count": 20,
     "metadata": {},
     "output_type": "execute_result"
    },
    {
     "data": {
      "image/png": "[encoded data removed]",
      "text/plain": [
       "<Figure size 432x288 with 1 Axes>"
      ]
     },
     "metadata": {
      "needs_background": "light"
     },
     "output_type": "display_data"
    }
   ],
   "source": [
    "# 'age'\n",
    "sns.boxplot( x='response', y='age', data=df4)"
   ]
  },
  {
   "cell_type": "code",
   "execution_count": 21,
   "id": "be871c65",
   "metadata": {
    "ExecuteTime": {
     "end_time": "2022-05-20T09:33:28.374408Z",
     "start_time": "2022-05-20T09:33:27.879908Z"
    },
    "hidden": true
   },
   "outputs": [
    {
     "data": {
      "text/plain": [
       "<AxesSubplot:xlabel='age', ylabel='Count'>"
      ]
     },
     "execution_count": 21,
     "metadata": {},
     "output_type": "execute_result"
    },
    {
     "data": {
      "image/png": "[encoded data removed]",
      "text/plain": [
       "<Figure size 432x288 with 1 Axes>"
      ]
     },
     "metadata": {
      "needs_background": "light"
     },
     "output_type": "display_data"
    }
   ],
   "source": [
    "aux00 = df4.loc[df4['response'] == 0, 'age']\n",
    "sns.histplot( aux00 )"
   ]
  },
  {
   "cell_type": "code",
   "execution_count": 22,
   "id": "45158ed5",
   "metadata": {
    "ExecuteTime": {
     "end_time": "2022-05-20T09:33:28.808407Z",
     "start_time": "2022-05-20T09:33:28.383410Z"
    },
    "hidden": true
   },
   "outputs": [
    {
     "data": {
      "text/plain": [
       "<AxesSubplot:xlabel='age', ylabel='Count'>"
      ]
     },
     "execution_count": 22,
     "metadata": {},
     "output_type": "execute_result"
    },
    {
     "data": {
      "image/png": "[encoded data removed]",
      "text/plain": [
       "<Figure size 432x288 with 1 Axes>"
      ]
     },
     "metadata": {
      "needs_background": "light"
     },
     "output_type": "display_data"
    }
   ],
   "source": [
    "aux01 = df4.loc[df4['response'] == 1, 'age']\n",
    "sns.histplot( aux01 )"
   ]
  },
  {
   "cell_type": "code",
   "execution_count": 23,
   "id": "33510cd8",
   "metadata": {
    "ExecuteTime": {
     "end_time": "2022-05-20T09:33:29.071907Z",
     "start_time": "2022-05-20T09:33:28.809907Z"
    },
    "hidden": true
   },
   "outputs": [
    {
     "data": {
      "text/plain": [
       "<AxesSubplot:xlabel='response', ylabel='annual_premium'>"
      ]
     },
     "execution_count": 23,
     "metadata": {},
     "output_type": "execute_result"
    },
    {
     "data": {
      "image/png": "[encoded data removed]",
      "text/plain": [
       "<Figure size 432x288 with 1 Axes>"
      ]
     },
     "metadata": {
      "needs_background": "light"
     },
     "output_type": "display_data"
    }
   ],
   "source": [
    "# 'annual_premium'\n",
    "aux = df4[df4['annual_premium'] < 80000]\n",
    "sns.boxplot( x='response', y='annual_premium', data=aux )"
   ]
  },
  {
   "cell_type": "code",
   "execution_count": 24,
   "id": "c6ecfd31",
   "metadata": {
    "ExecuteTime": {
     "end_time": "2022-05-20T09:33:29.676406Z",
     "start_time": "2022-05-20T09:33:29.075407Z"
    },
    "hidden": true
   },
   "outputs": [
    {
     "data": {
      "text/plain": [
       "<AxesSubplot:xlabel='annual_premium', ylabel='Count'>"
      ]
     },
     "execution_count": 24,
     "metadata": {},
     "output_type": "execute_result"
    },
    {
     "data": {
      "image/png": "[encoded data removed]",
      "text/plain": [
       "<Figure size 432x288 with 1 Axes>"
      ]
     },
     "metadata": {
      "needs_background": "light"
     },
     "output_type": "display_data"
    }
   ],
   "source": [
    "aux = df4[(df4['annual_premium'] > 10000) & (df4['annual_premium'] < 80000)]\n",
    "aux00 = aux.loc[df4['response'] == 0, 'annual_premium']\n",
    "sns.histplot( aux00 )"
   ]
  },
  {
   "cell_type": "code",
   "execution_count": 25,
   "id": "8aec36f8",
   "metadata": {
    "ExecuteTime": {
     "end_time": "2022-05-20T09:33:30.017407Z",
     "start_time": "2022-05-20T09:33:29.678407Z"
    },
    "hidden": true
   },
   "outputs": [
    {
     "data": {
      "text/plain": [
       "<AxesSubplot:xlabel='annual_premium', ylabel='Count'>"
      ]
     },
     "execution_count": 25,
     "metadata": {},
     "output_type": "execute_result"
    },
    {
     "data": {
      "image/png": "[encoded data removed]",
      "text/plain": [
       "<Figure size 432x288 with 1 Axes>"
      ]
     },
     "metadata": {
      "needs_background": "light"
     },
     "output_type": "display_data"
    }
   ],
   "source": [
    "aux01 = aux.loc[df4['response'] == 1, 'annual_premium']\n",
    "sns.histplot( aux01 )"
   ]
  },
  {
   "cell_type": "code",
   "execution_count": 26,
   "id": "be6b365e-9eff-4335-a87e-f4f18939ec0b",
   "metadata": {},
   "outputs": [
    {
     "data": {
      "text/plain": [
       "response\n",
       "0           0.877437\n",
       "1           0.122563\n",
       "dtype: float64"
      ]
     },
     "execution_count": 26,
     "metadata": {},
     "output_type": "execute_result"
    }
   ],
   "source": [
    "df4[['response']].value_counts(normalize=True)"
   ]
  },
  {
   "cell_type": "markdown",
   "id": "9fbe7ac3-3cb6-4269-9241-da425935a6f2",
   "metadata": {},
   "source": [
    "**Como anual_premium tem outlayers e não foi entendido a fundo a origem, para proximos ciclos, remover ou tratar estes outlayers.**"
   ]
  },
  {
   "cell_type": "code",
   "execution_count": 27,
   "id": "63052b69",
   "metadata": {
    "ExecuteTime": {
     "end_time": "2022-05-20T09:33:30.125907Z",
     "start_time": "2022-05-20T09:33:30.018407Z"
    },
    "hidden": true
   },
   "outputs": [
    {
     "data": {
      "text/html": [
       "<div>\n",
       "<style scoped>\n",
       "    .dataframe tbody tr th:only-of-type {\n",
       "        vertical-align: middle;\n",
       "    }\n",
       "\n",
       "    .dataframe tbody tr th {\n",
       "        vertical-align: top;\n",
       "    }\n",
       "\n",
       "    .dataframe thead th {\n",
       "        text-align: right;\n",
       "    }\n",
       "</style>\n",
       "<table border=\"1\" class=\"dataframe\">\n",
       "  <thead>\n",
       "    <tr style=\"text-align: right;\">\n",
       "      <th></th>\n",
       "      <th>response</th>\n",
       "      <th>driving_license</th>\n",
       "      <th>driving_license_perc</th>\n",
       "    </tr>\n",
       "  </thead>\n",
       "  <tbody>\n",
       "    <tr>\n",
       "      <th>0</th>\n",
       "      <td>0</td>\n",
       "      <td>333628</td>\n",
       "      <td>0.877283</td>\n",
       "    </tr>\n",
       "    <tr>\n",
       "      <th>1</th>\n",
       "      <td>1</td>\n",
       "      <td>46669</td>\n",
       "      <td>0.122717</td>\n",
       "    </tr>\n",
       "  </tbody>\n",
       "</table>\n",
       "</div>"
      ],
      "text/plain": [
       "   response  driving_license  driving_license_perc\n",
       "0         0           333628              0.877283\n",
       "1         1            46669              0.122717"
      ]
     },
     "execution_count": 27,
     "metadata": {},
     "output_type": "execute_result"
    },
    {
     "data": {
      "image/png": "[encoded data removed]",
      "text/plain": [
       "<Figure size 432x288 with 1 Axes>"
      ]
     },
     "metadata": {
      "needs_background": "light"
     },
     "output_type": "display_data"
    }
   ],
   "source": [
    "# 'driving_license'\n",
    "aux = df4[['driving_license', 'response']].groupby( 'response' ).sum().reset_index()\n",
    "aux['driving_license_perc'] = aux['driving_license'] / aux['driving_license'].sum()\n",
    "sns.barplot( x='response', y='driving_license', data=aux)\n",
    "aux.head()"
   ]
  },
  {
   "cell_type": "code",
   "execution_count": 28,
   "id": "06714e93",
   "metadata": {
    "ExecuteTime": {
     "end_time": "2022-05-20T09:33:30.327406Z",
     "start_time": "2022-05-20T09:33:30.127407Z"
    },
    "hidden": true
   },
   "outputs": [
    {
     "data": {
      "text/plain": [
       "<AxesSubplot:xlabel='region_code', ylabel='id'>"
      ]
     },
     "execution_count": 28,
     "metadata": {},
     "output_type": "execute_result"
    },
    {
     "data": {
      "image/png": "[encoded data removed]",
      "text/plain": [
       "<Figure size 432x288 with 1 Axes>"
      ]
     },
     "metadata": {
      "needs_background": "light"
     },
     "output_type": "display_data"
    }
   ],
   "source": [
    "# 'region_code'\n",
    "aux0 = df4[['id', 'region_code', 'response']].groupby( ['region_code', 'response'] ).count().reset_index()\n",
    "aux0\n",
    "sns.scatterplot( x='region_code', y='id', hue='response', data=aux0)"
   ]
  },
  {
   "cell_type": "markdown",
   "id": "b2621a64-1d73-4784-b82a-7971704ec235",
   "metadata": {},
   "source": [
    "**Como não tem muita separação, tentar combinar com outras features para gerar novas com maior separabilidade**"
   ]
  },
  {
   "cell_type": "code",
   "execution_count": 29,
   "id": "8ab33fe5",
   "metadata": {
    "ExecuteTime": {
     "end_time": "2022-05-20T09:33:30.389408Z",
     "start_time": "2022-05-20T09:33:30.328407Z"
    },
    "hidden": true
   },
   "outputs": [
    {
     "data": {
      "text/html": [
       "<div>\n",
       "<style scoped>\n",
       "    .dataframe tbody tr th:only-of-type {\n",
       "        vertical-align: middle;\n",
       "    }\n",
       "\n",
       "    .dataframe tbody tr th {\n",
       "        vertical-align: top;\n",
       "    }\n",
       "\n",
       "    .dataframe thead th {\n",
       "        text-align: right;\n",
       "    }\n",
       "</style>\n",
       "<table border=\"1\" class=\"dataframe\">\n",
       "  <thead>\n",
       "    <tr style=\"text-align: right;\">\n",
       "      <th>response</th>\n",
       "      <th>0</th>\n",
       "      <th>1</th>\n",
       "    </tr>\n",
       "    <tr>\n",
       "      <th>previously_insured</th>\n",
       "      <th></th>\n",
       "      <th></th>\n",
       "    </tr>\n",
       "  </thead>\n",
       "  <tbody>\n",
       "    <tr>\n",
       "      <th>0</th>\n",
       "      <td>0.774546</td>\n",
       "      <td>0.225454</td>\n",
       "    </tr>\n",
       "    <tr>\n",
       "      <th>1</th>\n",
       "      <td>0.999095</td>\n",
       "      <td>0.000905</td>\n",
       "    </tr>\n",
       "  </tbody>\n",
       "</table>\n",
       "</div>"
      ],
      "text/plain": [
       "response                   0         1\n",
       "previously_insured                    \n",
       "0                   0.774546  0.225454\n",
       "1                   0.999095  0.000905"
      ]
     },
     "execution_count": 29,
     "metadata": {},
     "output_type": "execute_result"
    }
   ],
   "source": [
    "# 'previously_insured'\n",
    "pd.crosstab( df4['previously_insured'], df4['response'] ).apply( lambda x: x / x.sum(), axis=1)"
   ]
  },
  {
   "cell_type": "code",
   "execution_count": 30,
   "id": "833e7a6a",
   "metadata": {
    "ExecuteTime": {
     "end_time": "2022-05-20T09:33:30.451407Z",
     "start_time": "2022-05-20T09:33:30.390909Z"
    },
    "hidden": true
   },
   "outputs": [
    {
     "data": {
      "text/html": [
       "<div>\n",
       "<style scoped>\n",
       "    .dataframe tbody tr th:only-of-type {\n",
       "        vertical-align: middle;\n",
       "    }\n",
       "\n",
       "    .dataframe tbody tr th {\n",
       "        vertical-align: top;\n",
       "    }\n",
       "\n",
       "    .dataframe thead th {\n",
       "        text-align: right;\n",
       "    }\n",
       "</style>\n",
       "<table border=\"1\" class=\"dataframe\">\n",
       "  <thead>\n",
       "    <tr style=\"text-align: right;\">\n",
       "      <th></th>\n",
       "      <th>vehicle_age</th>\n",
       "      <th>response</th>\n",
       "      <th>0</th>\n",
       "    </tr>\n",
       "  </thead>\n",
       "  <tbody>\n",
       "    <tr>\n",
       "      <th>0</th>\n",
       "      <td>between_1_2_year</td>\n",
       "      <td>0</td>\n",
       "      <td>0.434285</td>\n",
       "    </tr>\n",
       "    <tr>\n",
       "      <th>1</th>\n",
       "      <td>below_1_year</td>\n",
       "      <td>0</td>\n",
       "      <td>0.413488</td>\n",
       "    </tr>\n",
       "    <tr>\n",
       "      <th>2</th>\n",
       "      <td>between_1_2_year</td>\n",
       "      <td>1</td>\n",
       "      <td>0.091328</td>\n",
       "    </tr>\n",
       "    <tr>\n",
       "      <th>3</th>\n",
       "      <td>over_2_years</td>\n",
       "      <td>0</td>\n",
       "      <td>0.029663</td>\n",
       "    </tr>\n",
       "    <tr>\n",
       "      <th>4</th>\n",
       "      <td>below_1_year</td>\n",
       "      <td>1</td>\n",
       "      <td>0.018897</td>\n",
       "    </tr>\n",
       "    <tr>\n",
       "      <th>5</th>\n",
       "      <td>over_2_years</td>\n",
       "      <td>1</td>\n",
       "      <td>0.012338</td>\n",
       "    </tr>\n",
       "  </tbody>\n",
       "</table>\n",
       "</div>"
      ],
      "text/plain": [
       "        vehicle_age  response         0\n",
       "0  between_1_2_year         0  0.434285\n",
       "1      below_1_year         0  0.413488\n",
       "2  between_1_2_year         1  0.091328\n",
       "3      over_2_years         0  0.029663\n",
       "4      below_1_year         1  0.018897\n",
       "5      over_2_years         1  0.012338"
      ]
     },
     "execution_count": 30,
     "metadata": {},
     "output_type": "execute_result"
    }
   ],
   "source": [
    "# 'vehicle_age'\n",
    "df4[['vehicle_age', 'response']].value_counts(normalize=True).reset_index()"
   ]
  },
  {
   "cell_type": "markdown",
   "id": "a0191825-e456-4f37-b6fa-012cf469d6b4",
   "metadata": {},
   "source": [
    "**A idade temos uma boa separação quando é entre 1 e 2 anos e menos de um ano, já acima de 2 anos não tem uma boa separação. Podemos avalidar criar novas features.**"
   ]
  },
  {
   "cell_type": "code",
   "execution_count": 31,
   "id": "463dc62e",
   "metadata": {
    "ExecuteTime": {
     "end_time": "2022-05-20T09:33:30.482406Z",
     "start_time": "2022-05-20T09:33:30.455406Z"
    },
    "hidden": true
   },
   "outputs": [
    {
     "data": {
      "text/html": [
       "<div>\n",
       "<style scoped>\n",
       "    .dataframe tbody tr th:only-of-type {\n",
       "        vertical-align: middle;\n",
       "    }\n",
       "\n",
       "    .dataframe tbody tr th {\n",
       "        vertical-align: top;\n",
       "    }\n",
       "\n",
       "    .dataframe thead th {\n",
       "        text-align: right;\n",
       "    }\n",
       "</style>\n",
       "<table border=\"1\" class=\"dataframe\">\n",
       "  <thead>\n",
       "    <tr style=\"text-align: right;\">\n",
       "      <th></th>\n",
       "      <th>response</th>\n",
       "      <th>driving_license</th>\n",
       "    </tr>\n",
       "  </thead>\n",
       "  <tbody>\n",
       "    <tr>\n",
       "      <th>0</th>\n",
       "      <td>0</td>\n",
       "      <td>333628</td>\n",
       "    </tr>\n",
       "    <tr>\n",
       "      <th>1</th>\n",
       "      <td>1</td>\n",
       "      <td>46669</td>\n",
       "    </tr>\n",
       "  </tbody>\n",
       "</table>\n",
       "</div>"
      ],
      "text/plain": [
       "   response  driving_license\n",
       "0         0           333628\n",
       "1         1            46669"
      ]
     },
     "execution_count": 31,
     "metadata": {},
     "output_type": "execute_result"
    }
   ],
   "source": [
    "df4[['driving_license', 'response']].groupby( 'response' ).sum().reset_index()"
   ]
  },
  {
   "cell_type": "code",
   "execution_count": 32,
   "id": "48ccfea1",
   "metadata": {
    "ExecuteTime": {
     "end_time": "2022-05-20T09:33:30.513406Z",
     "start_time": "2022-05-20T09:33:30.483408Z"
    },
    "hidden": true
   },
   "outputs": [
    {
     "data": {
      "text/html": [
       "<div>\n",
       "<style scoped>\n",
       "    .dataframe tbody tr th:only-of-type {\n",
       "        vertical-align: middle;\n",
       "    }\n",
       "\n",
       "    .dataframe tbody tr th {\n",
       "        vertical-align: top;\n",
       "    }\n",
       "\n",
       "    .dataframe thead th {\n",
       "        text-align: right;\n",
       "    }\n",
       "</style>\n",
       "<table border=\"1\" class=\"dataframe\">\n",
       "  <thead>\n",
       "    <tr style=\"text-align: right;\">\n",
       "      <th></th>\n",
       "      <th>response</th>\n",
       "      <th>0</th>\n",
       "    </tr>\n",
       "  </thead>\n",
       "  <tbody>\n",
       "    <tr>\n",
       "      <th>0</th>\n",
       "      <td>0</td>\n",
       "      <td>334399</td>\n",
       "    </tr>\n",
       "    <tr>\n",
       "      <th>1</th>\n",
       "      <td>1</td>\n",
       "      <td>46710</td>\n",
       "    </tr>\n",
       "  </tbody>\n",
       "</table>\n",
       "</div>"
      ],
      "text/plain": [
       "   response       0\n",
       "0         0  334399\n",
       "1         1   46710"
      ]
     },
     "execution_count": 32,
     "metadata": {},
     "output_type": "execute_result"
    }
   ],
   "source": [
    "df4[['driving_license', 'response']].value_counts('response').reset_index()"
   ]
  },
  {
   "cell_type": "code",
   "execution_count": 33,
   "id": "5b81ffb2",
   "metadata": {
    "ExecuteTime": {
     "end_time": "2022-05-20T09:33:30.528907Z",
     "start_time": "2022-05-20T09:33:30.515407Z"
    },
    "hidden": true
   },
   "outputs": [
    {
     "data": {
      "text/plain": [
       "0         1\n",
       "1         0\n",
       "2         0\n",
       "3         0\n",
       "4         1\n",
       "         ..\n",
       "381104    0\n",
       "381105    1\n",
       "381106    0\n",
       "381107    1\n",
       "381108    1\n",
       "Name: vehicle_damage, Length: 381109, dtype: int64"
      ]
     },
     "execution_count": 33,
     "metadata": {},
     "output_type": "execute_result"
    }
   ],
   "source": [
    "# 'vehicle_damage'\n",
    "df4['vehicle_damage']"
   ]
  },
  {
   "cell_type": "code",
   "execution_count": 34,
   "id": "f9763d9e",
   "metadata": {
    "ExecuteTime": {
     "end_time": "2022-05-20T09:33:31.551908Z",
     "start_time": "2022-05-20T09:33:30.530407Z"
    },
    "hidden": true
   },
   "outputs": [
    {
     "data": {
      "text/plain": [
       "<AxesSubplot:xlabel='response', ylabel='policy_sales_channel'>"
      ]
     },
     "execution_count": 34,
     "metadata": {},
     "output_type": "execute_result"
    },
    {
     "data": {
      "image/png": "[encoded data removed]",
      "text/plain": [
       "<Figure size 1728x864 with 1 Axes>"
      ]
     },
     "metadata": {
      "needs_background": "light"
     },
     "output_type": "display_data"
    }
   ],
   "source": [
    "# 'policy_sales_channel'\n",
    "aux = df4[['policy_sales_channel', 'response']].groupby( 'policy_sales_channel' ).sum().reset_index()\n",
    "\n",
    "plt.figure( figsize=(24, 12))\n",
    "\n",
    "sns.barplot( x='response', y='policy_sales_channel', data=aux)"
   ]
  },
  {
   "cell_type": "code",
   "execution_count": 35,
   "id": "434bd5c9",
   "metadata": {
    "ExecuteTime": {
     "end_time": "2022-05-20T09:33:31.722406Z",
     "start_time": "2022-05-20T09:33:31.553407Z"
    },
    "hidden": true
   },
   "outputs": [
    {
     "data": {
      "text/plain": [
       "<AxesSubplot:xlabel='response', ylabel='vintage'>"
      ]
     },
     "execution_count": 35,
     "metadata": {},
     "output_type": "execute_result"
    },
    {
     "data": {
      "image/png": "[encoded data removed]",
      "text/plain": [
       "<Figure size 432x288 with 1 Axes>"
      ]
     },
     "metadata": {
      "needs_background": "light"
     },
     "output_type": "display_data"
    }
   ],
   "source": [
    "# 'vintage'\n",
    "sns.boxplot( x='response', y='vintage', data=df4 )"
   ]
  },
  {
   "cell_type": "code",
   "execution_count": 36,
   "id": "ffa38048",
   "metadata": {
    "ExecuteTime": {
     "end_time": "2022-05-20T09:33:32.063407Z",
     "start_time": "2022-05-20T09:33:31.723908Z"
    },
    "hidden": true
   },
   "outputs": [
    {
     "data": {
      "text/plain": [
       "<AxesSubplot:xlabel='vintage', ylabel='Count'>"
      ]
     },
     "execution_count": 36,
     "metadata": {},
     "output_type": "execute_result"
    },
    {
     "data": {
      "image/png": "[encoded data removed]",
      "text/plain": [
       "<Figure size 432x288 with 1 Axes>"
      ]
     },
     "metadata": {
      "needs_background": "light"
     },
     "output_type": "display_data"
    }
   ],
   "source": [
    "aux00 = df4.loc[df4['response'] == 0, 'vintage']\n",
    "sns.histplot( aux00 )"
   ]
  },
  {
   "cell_type": "code",
   "execution_count": 37,
   "id": "dd34f5a4",
   "metadata": {
    "ExecuteTime": {
     "end_time": "2022-05-20T09:33:32.249407Z",
     "start_time": "2022-05-20T09:33:32.065408Z"
    },
    "hidden": true
   },
   "outputs": [
    {
     "data": {
      "text/plain": [
       "<AxesSubplot:xlabel='vintage', ylabel='Count'>"
      ]
     },
     "execution_count": 37,
     "metadata": {},
     "output_type": "execute_result"
    },
    {
     "data": {
      "image/png": "[encoded data removed]",
      "text/plain": [
       "<Figure size 432x288 with 1 Axes>"
      ]
     },
     "metadata": {
      "needs_background": "light"
     },
     "output_type": "display_data"
    }
   ],
   "source": [
    "aux01 = df4.loc[df4['response'] == 1, 'vintage']\n",
    "sns.histplot( aux01 )"
   ]
  },
  {
   "cell_type": "code",
   "execution_count": 38,
   "id": "7f67bf6d",
   "metadata": {
    "ExecuteTime": {
     "end_time": "2022-05-20T09:33:32.621432Z",
     "start_time": "2022-05-20T09:33:32.251409Z"
    },
    "hidden": true
   },
   "outputs": [
    {
     "data": {
      "text/plain": [
       "<AxesSubplot:xlabel='gender', ylabel='Count'>"
      ]
     },
     "execution_count": 38,
     "metadata": {},
     "output_type": "execute_result"
    },
    {
     "data": {
      "image/png": "[encoded data removed]",
      "text/plain": [
       "<Figure size 432x288 with 1 Axes>"
      ]
     },
     "metadata": {
      "needs_background": "light"
     },
     "output_type": "display_data"
    }
   ],
   "source": [
    "# gender\n",
    "aux02 = df4.loc[df4['response'] == 0, 'gender']\n",
    "sns.histplot( aux02 )"
   ]
  },
  {
   "cell_type": "code",
   "execution_count": 39,
   "id": "c5641fed",
   "metadata": {
    "ExecuteTime": {
     "end_time": "2022-05-20T09:33:32.807432Z",
     "start_time": "2022-05-20T09:33:32.622408Z"
    },
    "hidden": true
   },
   "outputs": [
    {
     "data": {
      "text/plain": [
       "<AxesSubplot:xlabel='gender', ylabel='Count'>"
      ]
     },
     "execution_count": 39,
     "metadata": {},
     "output_type": "execute_result"
    },
    {
     "data": {
      "image/png": "[encoded data removed]",
      "text/plain": [
       "<Figure size 432x288 with 1 Axes>"
      ]
     },
     "metadata": {
      "needs_background": "light"
     },
     "output_type": "display_data"
    }
   ],
   "source": [
    "aux02 = df4.loc[df4['response'] == 1, 'gender']\n",
    "sns.histplot( aux02 )"
   ]
  },
  {
   "cell_type": "code",
   "execution_count": 40,
   "id": "57194a85",
   "metadata": {
    "ExecuteTime": {
     "end_time": "2022-05-20T09:33:33.179442Z",
     "start_time": "2022-05-20T09:33:32.808907Z"
    },
    "hidden": true
   },
   "outputs": [
    {
     "data": {
      "text/plain": [
       "<AxesSubplot:xlabel='gender', ylabel='Count'>"
      ]
     },
     "execution_count": 40,
     "metadata": {},
     "output_type": "execute_result"
    },
    {
     "data": {
      "image/png": "[encoded data removed]",
      "text/plain": [
       "<Figure size 432x288 with 1 Axes>"
      ]
     },
     "metadata": {
      "needs_background": "light"
     },
     "output_type": "display_data"
    }
   ],
   "source": [
    "sns.histplot(x='gender', data=df4, hue='response' )"
   ]
  },
  {
   "cell_type": "markdown",
   "id": "238b0ac0",
   "metadata": {
    "heading_collapsed": true,
    "hidden": true
   },
   "source": [
    "## 4.2. Análise Bivariada"
   ]
  },
  {
   "cell_type": "code",
   "execution_count": null,
   "id": "fd6c0206",
   "metadata": {
    "hidden": true
   },
   "outputs": [],
   "source": []
  },
  {
   "cell_type": "markdown",
   "id": "4267c7f5",
   "metadata": {},
   "source": [
    "# 5.0. Preparação dos Dados"
   ]
  },
  {
   "cell_type": "code",
   "execution_count": 41,
   "id": "fb8b3024",
   "metadata": {
    "ExecuteTime": {
     "end_time": "2022-05-20T23:05:58.352734Z",
     "start_time": "2022-05-20T23:05:56.926713Z"
    }
   },
   "outputs": [],
   "source": [
    "x = df4.drop( 'response', axis=1 )\n",
    "y = df4['response'].copy()\n",
    "\n",
    "x_train, x_validation, y_train, y_validation = ms.train_test_split( x, y, test_size=0.2 )\n",
    "\n",
    "df5 = pd.concat( [x_train, y_train], axis=1 )"
   ]
  },
  {
   "cell_type": "markdown",
   "id": "5ed79c9e",
   "metadata": {},
   "source": [
    "## 5.1. Standardization "
   ]
  },
  {
   "cell_type": "code",
   "execution_count": 42,
   "id": "11a1df8d",
   "metadata": {
    "ExecuteTime": {
     "end_time": "2022-05-20T23:05:58.446220Z",
     "start_time": "2022-05-20T23:05:58.373739Z"
    }
   },
   "outputs": [],
   "source": [
    "ss = pp.StandardScaler()"
   ]
  },
  {
   "cell_type": "code",
   "execution_count": 43,
   "id": "f6affbef",
   "metadata": {
    "ExecuteTime": {
     "end_time": "2022-05-20T23:05:58.770486Z",
     "start_time": "2022-05-20T23:05:58.454216Z"
    }
   },
   "outputs": [],
   "source": [
    "# annual_premium\n",
    "df5['annual_premium'] = ss.fit_transform( df5[['annual_premium']].values )\n",
    "pickle.dump( ss, open('../src/features/annual_premium_scaler.pkl', 'wb' ) )"
   ]
  },
  {
   "cell_type": "markdown",
   "id": "9f967fe2",
   "metadata": {},
   "source": [
    "## 5.2. Rescaling"
   ]
  },
  {
   "cell_type": "code",
   "execution_count": 44,
   "id": "d53ca531",
   "metadata": {
    "ExecuteTime": {
     "end_time": "2022-05-20T23:05:58.785984Z",
     "start_time": "2022-05-20T23:05:58.772485Z"
    }
   },
   "outputs": [],
   "source": [
    "mms_age = pp.MinMaxScaler()\n",
    "mms_vintage = pp.MinMaxScaler()"
   ]
  },
  {
   "cell_type": "code",
   "execution_count": 45,
   "id": "499fd1d8",
   "metadata": {
    "ExecuteTime": {
     "end_time": "2022-05-20T23:05:58.894483Z",
     "start_time": "2022-05-20T23:05:58.787990Z"
    }
   },
   "outputs": [],
   "source": [
    "# Age\n",
    "df5['age'] = mms_age.fit_transform(df5[['age']].values)\n",
    "pickle.dump( mms_age, open('../src/features/age_scaler.pkl', 'wb'))\n",
    "\n",
    "# vintage\n",
    "df5['vintage'] = mms_vintage.fit_transform(df5[['vintage']].values )\n",
    "pickle.dump(mms_vintage, open('../src/features/vintage_scaler.pkl', 'wb'))"
   ]
  },
  {
   "cell_type": "markdown",
   "id": "3d2ad9db",
   "metadata": {},
   "source": [
    "## 5.3. Encoder"
   ]
  },
  {
   "cell_type": "markdown",
   "id": "0555b49c",
   "metadata": {},
   "source": [
    "Como o processo de Encoder subjetivo é para uma maior assertividade é necessário testar as possibilidades, neste ciclo será utilizado uma forma de encoding e nos proximos podem ser testados as outras possibilidades.\n",
    "\n",
    "**Possibilidades de encodigng** -> One Hot Encoding / Frequency Encoding / Target Encoding / Weighted Target Encoding / Order Encoding"
   ]
  },
  {
   "cell_type": "code",
   "execution_count": 46,
   "id": "b84742ac",
   "metadata": {
    "ExecuteTime": {
     "end_time": "2022-05-20T23:06:02.186185Z",
     "start_time": "2022-05-20T23:06:01.298379Z"
    }
   },
   "outputs": [],
   "source": [
    "# gender -> One Hot Encoding / Frequency Encoding\n",
    "target_encode_gender = df5.groupby( 'gender' )['response'].mean()\n",
    "df5.loc[:, 'gender'] = df5['gender'].map( target_encode_gender )\n",
    "pickle.dump( target_encode_gender, open('../src/features/target_encode_gender_scaler.pkl', 'wb' ) )\n",
    "\n",
    "# region_code -> Target Encoding / Frequency Encoding / Weighted Target Encoding\n",
    "target_encode_region_code = df5.groupby( 'region_code' )['response'].mean()\n",
    "df5.loc[:, 'region_code'] = df5['region_code'].map( target_encode_region_code )\n",
    "pickle.dump( target_encode_region_code, open('../src/features/target_encode_region_code_scaler.pkl', 'wb' ) )\n",
    "\n",
    "# vehicle_age -> One Hot Encoding / Order Encoding / Frequency Encoding \n",
    "df5 = pd.get_dummies( df5, prefix='vehicle_age', columns=['vehicle_age'] )\n",
    "\n",
    "# policy_sales_channel - > Frequency Encoding / Target Encoding\n",
    "te_policy_sales_chanel = df5.groupby( 'policy_sales_channel' ).size() / len( df5 )\n",
    "df5.loc[:, 'policy_sales_channel'] = df5['policy_sales_channel'].map( te_policy_sales_chanel )\n",
    "pickle.dump( te_policy_sales_chanel, open('../src/features/te_policy_sales_chanel_scaler.pkl', 'wb' ) )"
   ]
  },
  {
   "cell_type": "markdown",
   "id": "e05e9955",
   "metadata": {},
   "source": [
    "## 5.4. Validation Preparation"
   ]
  },
  {
   "cell_type": "code",
   "execution_count": 47,
   "id": "21de98d0",
   "metadata": {
    "ExecuteTime": {
     "end_time": "2022-05-20T23:06:04.299426Z",
     "start_time": "2022-05-20T23:06:03.606257Z"
    }
   },
   "outputs": [],
   "source": [
    "# gender\n",
    "x_validation.loc[:, 'gender'] = x_validation.loc[:, 'gender'].map( target_encode_gender )\n",
    "\n",
    "# region_code\n",
    "x_validation.loc[:, 'region_code'] = x_validation.loc[:, 'region_code'].map( target_encode_region_code )\n",
    "\n",
    "# policy_sales_channel\n",
    "x_validation.loc[:, 'policy_sales_channel'] = x_validation['policy_sales_channel'].map( te_policy_sales_chanel )\n",
    "\n",
    "# age\n",
    "x_validation.loc[:, 'age'] = mms_age.transform( x_validation[['age']].values )\n",
    "\n",
    "# vintage\n",
    "x_validation.loc[:, 'vintage'] = mms_age.fit_transform( x_validation[['vintage']].values )\n",
    "\n",
    "# vehicle_age\n",
    "x_validation = pd.get_dummies( x_validation, prefix='vehicle_age', columns=['vehicle_age'] )\n",
    "\n",
    "# annual_premium\n",
    "x_validation.loc[:, 'annual_premium'] = ss.fit_transform( x_validation[['annual_premium']].values )\n",
    "\n",
    "x_validation = x_validation.fillna( 0 )"
   ]
  },
  {
   "cell_type": "code",
   "execution_count": 48,
   "id": "696f46ce",
   "metadata": {
    "ExecuteTime": {
     "end_time": "2022-05-20T09:33:33.659907Z",
     "start_time": "2022-05-20T09:33:33.645406Z"
    }
   },
   "outputs": [
    {
     "data": {
      "text/html": [
       "<div>\n",
       "<style scoped>\n",
       "    .dataframe tbody tr th:only-of-type {\n",
       "        vertical-align: middle;\n",
       "    }\n",
       "\n",
       "    .dataframe tbody tr th {\n",
       "        vertical-align: top;\n",
       "    }\n",
       "\n",
       "    .dataframe thead th {\n",
       "        text-align: right;\n",
       "    }\n",
       "</style>\n",
       "<table border=\"1\" class=\"dataframe\">\n",
       "  <thead>\n",
       "    <tr style=\"text-align: right;\">\n",
       "      <th></th>\n",
       "      <th>id</th>\n",
       "      <th>gender</th>\n",
       "      <th>age</th>\n",
       "      <th>driving_license</th>\n",
       "      <th>region_code</th>\n",
       "      <th>previously_insured</th>\n",
       "      <th>vehicle_damage</th>\n",
       "      <th>annual_premium</th>\n",
       "      <th>policy_sales_channel</th>\n",
       "      <th>vintage</th>\n",
       "      <th>vehicle_age_below_1_year</th>\n",
       "      <th>vehicle_age_between_1_2_year</th>\n",
       "      <th>vehicle_age_over_2_years</th>\n",
       "    </tr>\n",
       "  </thead>\n",
       "  <tbody>\n",
       "    <tr>\n",
       "      <th>348794</th>\n",
       "      <td>122303</td>\n",
       "      <td>0.103643</td>\n",
       "      <td>0.046154</td>\n",
       "      <td>1</td>\n",
       "      <td>0.187042</td>\n",
       "      <td>1</td>\n",
       "      <td>1</td>\n",
       "      <td>-1.617793</td>\n",
       "      <td>0.027987</td>\n",
       "      <td>0.764706</td>\n",
       "      <td>1</td>\n",
       "      <td>0</td>\n",
       "      <td>0</td>\n",
       "    </tr>\n",
       "    <tr>\n",
       "      <th>206314</th>\n",
       "      <td>122960</td>\n",
       "      <td>0.103643</td>\n",
       "      <td>0.030769</td>\n",
       "      <td>1</td>\n",
       "      <td>0.044754</td>\n",
       "      <td>0</td>\n",
       "      <td>1</td>\n",
       "      <td>-1.617793</td>\n",
       "      <td>0.353770</td>\n",
       "      <td>0.034602</td>\n",
       "      <td>1</td>\n",
       "      <td>0</td>\n",
       "      <td>0</td>\n",
       "    </tr>\n",
       "    <tr>\n",
       "      <th>82981</th>\n",
       "      <td>281020</td>\n",
       "      <td>0.138456</td>\n",
       "      <td>0.584615</td>\n",
       "      <td>1</td>\n",
       "      <td>0.187042</td>\n",
       "      <td>0</td>\n",
       "      <td>1</td>\n",
       "      <td>2.626724</td>\n",
       "      <td>0.194019</td>\n",
       "      <td>0.083045</td>\n",
       "      <td>0</td>\n",
       "      <td>0</td>\n",
       "      <td>1</td>\n",
       "    </tr>\n",
       "    <tr>\n",
       "      <th>35802</th>\n",
       "      <td>285704</td>\n",
       "      <td>0.138456</td>\n",
       "      <td>0.292308</td>\n",
       "      <td>1</td>\n",
       "      <td>0.187042</td>\n",
       "      <td>0</td>\n",
       "      <td>1</td>\n",
       "      <td>0.857354</td>\n",
       "      <td>0.209179</td>\n",
       "      <td>0.681661</td>\n",
       "      <td>0</td>\n",
       "      <td>1</td>\n",
       "      <td>0</td>\n",
       "    </tr>\n",
       "    <tr>\n",
       "      <th>88928</th>\n",
       "      <td>328654</td>\n",
       "      <td>0.138456</td>\n",
       "      <td>0.061538</td>\n",
       "      <td>1</td>\n",
       "      <td>0.085240</td>\n",
       "      <td>0</td>\n",
       "      <td>1</td>\n",
       "      <td>-1.617793</td>\n",
       "      <td>0.353770</td>\n",
       "      <td>0.719723</td>\n",
       "      <td>1</td>\n",
       "      <td>0</td>\n",
       "      <td>0</td>\n",
       "    </tr>\n",
       "  </tbody>\n",
       "</table>\n",
       "</div>"
      ],
      "text/plain": [
       "            id    gender       age  driving_license  region_code  \\\n",
       "348794  122303  0.103643  0.046154                1     0.187042   \n",
       "206314  122960  0.103643  0.030769                1     0.044754   \n",
       "82981   281020  0.138456  0.584615                1     0.187042   \n",
       "35802   285704  0.138456  0.292308                1     0.187042   \n",
       "88928   328654  0.138456  0.061538                1     0.085240   \n",
       "\n",
       "        previously_insured  vehicle_damage  annual_premium  \\\n",
       "348794                   1               1       -1.617793   \n",
       "206314                   0               1       -1.617793   \n",
       "82981                    0               1        2.626724   \n",
       "35802                    0               1        0.857354   \n",
       "88928                    0               1       -1.617793   \n",
       "\n",
       "        policy_sales_channel   vintage  vehicle_age_below_1_year  \\\n",
       "348794              0.027987  0.764706                         1   \n",
       "206314              0.353770  0.034602                         1   \n",
       "82981               0.194019  0.083045                         0   \n",
       "35802               0.209179  0.681661                         0   \n",
       "88928               0.353770  0.719723                         1   \n",
       "\n",
       "        vehicle_age_between_1_2_year  vehicle_age_over_2_years  \n",
       "348794                             0                         0  \n",
       "206314                             0                         0  \n",
       "82981                              0                         1  \n",
       "35802                              1                         0  \n",
       "88928                              0                         0  "
      ]
     },
     "execution_count": 48,
     "metadata": {},
     "output_type": "execute_result"
    }
   ],
   "source": [
    "x_validation.head()"
   ]
  },
  {
   "cell_type": "markdown",
   "id": "491ff27e",
   "metadata": {},
   "source": [
    "# 6.0. Feature Selection"
   ]
  },
  {
   "cell_type": "markdown",
   "id": "6997e9d9",
   "metadata": {},
   "source": [
    "## 6.1. Importância das Features"
   ]
  },
  {
   "cell_type": "code",
   "execution_count": 49,
   "id": "b99af4f1",
   "metadata": {
    "ExecuteTime": {
     "end_time": "2022-05-20T09:33:59.095407Z",
     "start_time": "2022-05-20T09:33:33.661909Z"
    }
   },
   "outputs": [
    {
     "data": {
      "text/html": [
       "<style>#sk-container-id-1 {color: black;background-color: white;}#sk-container-id-1 pre{padding: 0;}#sk-container-id-1 div.sk-toggleable {background-color: white;}#sk-container-id-1 label.sk-toggleable__label {cursor: pointer;display: block;width: 100%;margin-bottom: 0;padding: 0.3em;box-sizing: border-box;text-align: center;}#sk-container-id-1 label.sk-toggleable__label-arrow:before {content: \"▸\";float: left;margin-right: 0.25em;color: #696969;}#sk-container-id-1 label.sk-toggleable__label-arrow:hover:before {color: black;}#sk-container-id-1 div.sk-estimator:hover label.sk-toggleable__label-arrow:before {color: black;}#sk-container-id-1 div.sk-toggleable__content {max-height: 0;max-width: 0;overflow: hidden;text-align: left;background-color: #f0f8ff;}#sk-container-id-1 div.sk-toggleable__content pre {margin: 0.2em;color: black;border-radius: 0.25em;background-color: #f0f8ff;}#sk-container-id-1 input.sk-toggleable__control:checked~div.sk-toggleable__content {max-height: 200px;max-width: 100%;overflow: auto;}#sk-container-id-1 input.sk-toggleable__control:checked~label.sk-toggleable__label-arrow:before {content: \"▾\";}#sk-container-id-1 div.sk-estimator input.sk-toggleable__control:checked~label.sk-toggleable__label {background-color: #d4ebff;}#sk-container-id-1 div.sk-label input.sk-toggleable__control:checked~label.sk-toggleable__label {background-color: #d4ebff;}#sk-container-id-1 input.sk-hidden--visually {border: 0;clip: rect(1px 1px 1px 1px);clip: rect(1px, 1px, 1px, 1px);height: 1px;margin: -1px;overflow: hidden;padding: 0;position: absolute;width: 1px;}#sk-container-id-1 div.sk-estimator {font-family: monospace;background-color: #f0f8ff;border: 1px dotted black;border-radius: 0.25em;box-sizing: border-box;margin-bottom: 0.5em;}#sk-container-id-1 div.sk-estimator:hover {background-color: #d4ebff;}#sk-container-id-1 div.sk-parallel-item::after {content: \"\";width: 100%;border-bottom: 1px solid gray;flex-grow: 1;}#sk-container-id-1 div.sk-label:hover label.sk-toggleable__label {background-color: #d4ebff;}#sk-container-id-1 div.sk-serial::before {content: \"\";position: absolute;border-left: 1px solid gray;box-sizing: border-box;top: 0;bottom: 0;left: 50%;z-index: 0;}#sk-container-id-1 div.sk-serial {display: flex;flex-direction: column;align-items: center;background-color: white;padding-right: 0.2em;padding-left: 0.2em;position: relative;}#sk-container-id-1 div.sk-item {position: relative;z-index: 1;}#sk-container-id-1 div.sk-parallel {display: flex;align-items: stretch;justify-content: center;background-color: white;position: relative;}#sk-container-id-1 div.sk-item::before, #sk-container-id-1 div.sk-parallel-item::before {content: \"\";position: absolute;border-left: 1px solid gray;box-sizing: border-box;top: 0;bottom: 0;left: 50%;z-index: -1;}#sk-container-id-1 div.sk-parallel-item {display: flex;flex-direction: column;z-index: 1;position: relative;background-color: white;}#sk-container-id-1 div.sk-parallel-item:first-child::after {align-self: flex-end;width: 50%;}#sk-container-id-1 div.sk-parallel-item:last-child::after {align-self: flex-start;width: 50%;}#sk-container-id-1 div.sk-parallel-item:only-child::after {width: 0;}#sk-container-id-1 div.sk-dashed-wrapped {border: 1px dashed gray;margin: 0 0.4em 0.5em 0.4em;box-sizing: border-box;padding-bottom: 0.4em;background-color: white;}#sk-container-id-1 div.sk-label label {font-family: monospace;font-weight: bold;display: inline-block;line-height: 1.2em;}#sk-container-id-1 div.sk-label-container {text-align: center;}#sk-container-id-1 div.sk-container {/* jupyter's `normalize.less` sets `[hidden] { display: none; }` but bootstrap.min.css set `[hidden] { display: none !important; }` so we also need the `!important` here to be able to override the default hidden behavior on the sphinx rendered scikit-learn.org. See: https://github.com/scikit-learn/scikit-learn/issues/21755 */display: inline-block !important;position: relative;}#sk-container-id-1 div.sk-text-repr-fallback {display: none;}</style><div id=\"sk-container-id-1\" class=\"sk-top-container\"><div class=\"sk-text-repr-fallback\"><pre>ExtraTreesClassifier(n_estimators=250, n_jobs=-2, random_state=0)</pre><b>In a Jupyter environment, please rerun this cell to show the HTML representation or trust the notebook. <br />On GitHub, the HTML representation is unable to render, please try loading this page with nbviewer.org.</b></div><div class=\"sk-container\" hidden><div class=\"sk-item\"><div class=\"sk-estimator sk-toggleable\"><input class=\"sk-toggleable__control sk-hidden--visually\" id=\"sk-estimator-id-1\" type=\"checkbox\" checked><label for=\"sk-estimator-id-1\" class=\"sk-toggleable__label sk-toggleable__label-arrow\">ExtraTreesClassifier</label><div class=\"sk-toggleable__content\"><pre>ExtraTreesClassifier(n_estimators=250, n_jobs=-2, random_state=0)</pre></div></div></div></div></div>"
      ],
      "text/plain": [
       "ExtraTreesClassifier(n_estimators=250, n_jobs=-2, random_state=0)"
      ]
     },
     "execution_count": 49,
     "metadata": {},
     "output_type": "execute_result"
    }
   ],
   "source": [
    "# Definção do modelo\n",
    "forest = en.ExtraTreesClassifier( n_estimators=250, random_state=0, n_jobs=-2)\n",
    "\n",
    "x_train_n = df5.drop( ['id', 'response'], axis=1)\n",
    "y_train_n = y_train.values\n",
    "forest.fit( x_train_n, y_train_n )"
   ]
  },
  {
   "cell_type": "code",
   "execution_count": 50,
   "id": "e9e84c88",
   "metadata": {
    "ExecuteTime": {
     "end_time": "2022-05-20T09:33:59.932438Z",
     "start_time": "2022-05-20T09:33:59.097908Z"
    }
   },
   "outputs": [
    {
     "name": "stdout",
     "output_type": "stream",
     "text": [
      "Feature Ranking\n",
      "                        feature  importance\n",
      "0                       vintage    0.272316\n",
      "0                annual_premium    0.243955\n",
      "0                           age    0.164167\n",
      "0                   region_code    0.107406\n",
      "0                vehicle_damage    0.068052\n",
      "0          policy_sales_channel    0.060463\n",
      "0            previously_insured    0.056132\n",
      "0      vehicle_age_below_1_year    0.014190\n",
      "0  vehicle_age_between_1_2_year    0.005859\n",
      "0                        gender    0.004800\n",
      "0      vehicle_age_over_2_years    0.002176\n",
      "0               driving_license    0.000484\n"
     ]
    },
    {
     "data": {
      "image/png": "[encoded data removed]",
      "text/plain": [
       "<Figure size 432x288 with 1 Axes>"
      ]
     },
     "metadata": {
      "needs_background": "light"
     },
     "output_type": "display_data"
    }
   ],
   "source": [
    "def Feature_ranking(forest, x_train_n, plot=True):\n",
    "    importances = forest.feature_importances_\n",
    "    std = np.std( [tree.feature_importances_ for tree in forest.estimators_], axis=0 )\n",
    "    indices = np.argsort( importances )[::-1]\n",
    "\n",
    "    print('Feature Ranking')\n",
    "    df = pd.DataFrame()\n",
    "    for i, j in zip( x_train_n, forest.feature_importances_ ):\n",
    "        aux = pd.DataFrame( {'feature': i, 'importance': j}, index=[0])\n",
    "        df = pd.concat( [df, aux], axis=0)\n",
    "        \n",
    "    print( df.sort_values( 'importance', ascending=False))\n",
    "    \n",
    "    if plot:\n",
    "        plt.figure()\n",
    "        plt.title('Feature Importances')\n",
    "        plt.bar( range(x_train_n.shape[1]), importances[indices], color='r', yerr=std[indices], align='center' )\n",
    "        plt.xticks( range(x_train_n.shape[1]), indices )\n",
    "        plt.xlim( [-1, x_train_n.shape[1]] )\n",
    "        plt.show()\n",
    "    \n",
    "Feature_ranking(forest, x_train_n)"
   ]
  },
  {
   "cell_type": "markdown",
   "id": "c7725c84",
   "metadata": {},
   "source": [
    "# 7.0. Modelagem de machine learning"
   ]
  },
  {
   "cell_type": "code",
   "execution_count": 54,
   "id": "b2631519",
   "metadata": {
    "ExecuteTime": {
     "end_time": "2022-05-20T09:33:59.963502Z",
     "start_time": "2022-05-20T09:33:59.933908Z"
    }
   },
   "outputs": [],
   "source": [
    "cols_selected = ['annual_premium', 'vintage', 'age', 'region_code', 'vehicle_damage', 'previously_insured',\n",
    "                 'policy_sales_channel']\n",
    "\n",
    "x_train = df5[ cols_selected ]\n",
    "x_val = x_validation[ cols_selected ]\n",
    "y_val = y_validation.copy()"
   ]
  },
  {
   "cell_type": "markdown",
   "id": "0e5745f2",
   "metadata": {
    "heading_collapsed": true
   },
   "source": [
    "## 7.1. KNN"
   ]
  },
  {
   "cell_type": "code",
   "execution_count": 59,
   "id": "93b1e4e5",
   "metadata": {
    "hidden": true
   },
   "outputs": [],
   "source": [
    "# Model Definition\n",
    "knn_model = nh.KNeighborsClassifier( n_neighbors=2 )\n",
    "\n",
    "# Model training\n",
    "knn_model.fit( x_train, y_train )\n",
    "\n",
    "# Model Prediction\n",
    "yhat_knn = knn_model.predict_proba( x_val )"
   ]
  },
  {
   "cell_type": "code",
   "execution_count": 60,
   "id": "7838e42c",
   "metadata": {
    "ExecuteTime": {
     "end_time": "2022-05-20T09:34:06.318137Z",
     "start_time": "2022-05-20T09:33:59.964427Z"
    },
    "hidden": true
   },
   "outputs": [
    {
     "data": {
      "image/png": "[encoded data removed]",
      "text/plain": [
       "<Figure size 432x288 with 1 Axes>"
      ]
     },
     "metadata": {
      "needs_background": "light"
     },
     "output_type": "display_data"
    }
   ],
   "source": [
    "# Accumulative gain\n",
    "skplt.metrics.plot_cumulative_gain( y_val, yhat_knn );"
   ]
  },
  {
   "cell_type": "code",
   "execution_count": 61,
   "id": "5ba89497",
   "metadata": {
    "ExecuteTime": {
     "end_time": "2022-05-20T09:40:06.294569Z",
     "start_time": "2022-05-20T09:40:06.157112Z"
    },
    "hidden": true
   },
   "outputs": [
    {
     "data": {
      "image/png": "[encoded data removed]",
      "text/plain": [
       "<Figure size 432x288 with 1 Axes>"
      ]
     },
     "metadata": {
      "needs_background": "light"
     },
     "output_type": "display_data"
    }
   ],
   "source": [
    "# Lift Curve\n",
    "skplt.metrics.plot_lift_curve( y_val, yhat_knn );"
   ]
  },
  {
   "cell_type": "markdown",
   "id": "2085002f",
   "metadata": {},
   "source": [
    "## 7.2. Logistic Regression"
   ]
  },
  {
   "cell_type": "code",
   "execution_count": 62,
   "id": "750529e5",
   "metadata": {},
   "outputs": [],
   "source": [
    "# Model Definition\n",
    "lr_model = lm.LogisticRegression(random_state=42, n_jobs=-3)\n",
    "\n",
    "# Model training\n",
    "lr_model.fit( x_train, y_train )\n",
    "\n",
    "# Model Prediction\n",
    "yhat_lr = lr_model.predict_proba( x_val )"
   ]
  },
  {
   "cell_type": "code",
   "execution_count": 63,
   "id": "8a98361e",
   "metadata": {
    "ExecuteTime": {
     "end_time": "2022-05-20T09:34:07.496136Z",
     "start_time": "2022-05-20T09:34:06.320137Z"
    }
   },
   "outputs": [
    {
     "data": {
      "image/png": "[encoded data removed]",
      "text/plain": [
       "<Figure size 432x288 with 1 Axes>"
      ]
     },
     "metadata": {
      "needs_background": "light"
     },
     "output_type": "display_data"
    }
   ],
   "source": [
    "# Accumulative gain\n",
    "skplt.metrics.plot_cumulative_gain( y_val, yhat_lr );"
   ]
  },
  {
   "cell_type": "code",
   "execution_count": 64,
   "id": "af91025b",
   "metadata": {
    "ExecuteTime": {
     "end_time": "2022-05-20T09:39:48.559723Z",
     "start_time": "2022-05-20T09:39:45.495132Z"
    }
   },
   "outputs": [
    {
     "data": {
      "image/png": "[encoded data removed]",
      "text/plain": [
       "<Figure size 432x288 with 1 Axes>"
      ]
     },
     "metadata": {
      "needs_background": "light"
     },
     "output_type": "display_data"
    }
   ],
   "source": [
    "# Lift Curve\n",
    "skplt.metrics.plot_lift_curve( y_val, yhat_lr );"
   ]
  },
  {
   "cell_type": "markdown",
   "id": "0affd9d6",
   "metadata": {
    "heading_collapsed": true
   },
   "source": [
    "## 7.3. Extra Trees"
   ]
  },
  {
   "cell_type": "code",
   "execution_count": 60,
   "id": "4d94fa05",
   "metadata": {
    "hidden": true
   },
   "outputs": [],
   "source": [
    "# Model Definition - usando -3 para deixar 2 cores livres para não travar o PC.\n",
    "et_model = en.ExtraTreesClassifier( n_estimators=1000, n_jobs=-4, random_state=42 )\n",
    "\n",
    "# Model training\n",
    "et_model.fit( x_train, y_train )\n",
    "\n",
    "# Model Prediction\n",
    "yhat_et = et_model.predict_proba( x_val )"
   ]
  },
  {
   "cell_type": "code",
   "execution_count": 61,
   "id": "8c516740",
   "metadata": {
    "ExecuteTime": {
     "end_time": "2022-05-20T09:37:29.133101Z",
     "start_time": "2022-05-20T09:34:07.498151Z"
    },
    "hidden": true
   },
   "outputs": [
    {
     "data": {
      "image/png": "[encoded data removed]",
      "text/plain": [
       "<Figure size 432x288 with 1 Axes>"
      ]
     },
     "metadata": {
      "needs_background": "light"
     },
     "output_type": "display_data"
    }
   ],
   "source": [
    "# Accumulative gain\n",
    "skplt.metrics.plot_cumulative_gain( y_val, yhat_et );"
   ]
  },
  {
   "cell_type": "code",
   "execution_count": 62,
   "id": "6d261f90",
   "metadata": {
    "ExecuteTime": {
     "end_time": "2022-05-20T09:39:42.090009Z",
     "start_time": "2022-05-20T09:39:41.723181Z"
    },
    "hidden": true
   },
   "outputs": [
    {
     "data": {
      "image/png": "[encoded data removed]",
      "text/plain": [
       "<Figure size 432x288 with 1 Axes>"
      ]
     },
     "metadata": {
      "needs_background": "light"
     },
     "output_type": "display_data"
    }
   ],
   "source": [
    "# Lift Curve\n",
    "skplt.metrics.plot_lift_curve( y_val, yhat_et );"
   ]
  },
  {
   "cell_type": "markdown",
   "id": "e76e359d",
   "metadata": {},
   "source": [
    "## 7.4. Randon Forest"
   ]
  },
  {
   "cell_type": "code",
   "execution_count": 69,
   "id": "d15b8599",
   "metadata": {},
   "outputs": [],
   "source": [
    "# Model definition\n",
    "rf_model = en.RandomForestClassifier(n_estimators=1000, n_jobs=-4, random_state=42 )\n",
    "\n",
    "# Model training\n",
    "rf_model.fit(x_train, y_train)\n",
    "\n",
    "# Model fit\n",
    "yhat_rf = rf_model.predict_proba(x_val)"
   ]
  },
  {
   "cell_type": "code",
   "execution_count": 71,
   "id": "adcb7a0a",
   "metadata": {},
   "outputs": [
    {
     "data": {
      "text/plain": [
       "<AxesSubplot:title={'center':'Cumulative Gains Curve'}, xlabel='Percentage of sample', ylabel='Gain'>"
      ]
     },
     "execution_count": 71,
     "metadata": {},
     "output_type": "execute_result"
    },
    {
     "data": {
      "image/png": "[encoded data removed]",
      "text/plain": [
       "<Figure size 432x288 with 1 Axes>"
      ]
     },
     "metadata": {
      "needs_background": "light"
     },
     "output_type": "display_data"
    }
   ],
   "source": [
    "# Accumulative gain\n",
    "skplt.metrics.plot_cumulative_gain(y_val, yhat_rf)"
   ]
  },
  {
   "cell_type": "code",
   "execution_count": 72,
   "id": "f733e7c8",
   "metadata": {},
   "outputs": [
    {
     "data": {
      "text/plain": [
       "<AxesSubplot:title={'center':'Lift Curve'}, xlabel='Percentage of sample', ylabel='Lift'>"
      ]
     },
     "execution_count": 72,
     "metadata": {},
     "output_type": "execute_result"
    },
    {
     "data": {
      "image/png": "[encoded data removed]",
      "text/plain": [
       "<Figure size 432x288 with 1 Axes>"
      ]
     },
     "metadata": {
      "needs_background": "light"
     },
     "output_type": "display_data"
    }
   ],
   "source": [
    "# Lift Curve\n",
    "skplt.metrics.plot_lift_curve(y_val, yhat_rf)"
   ]
  },
  {
   "cell_type": "markdown",
   "id": "c1cd76f8",
   "metadata": {},
   "source": [
    "## 7.5. XGBoost"
   ]
  },
  {
   "cell_type": "code",
   "execution_count": 55,
   "id": "a65e1e24",
   "metadata": {},
   "outputs": [],
   "source": [
    "# Model definition\n",
    "xgb_model = xgb.XGBClassifier(use_label_encoder=False, eval_metric='logloss', random_state=42)\n",
    "\n",
    "# Model training\n",
    "xgb_model.fit(x_train, y_train)\n",
    "\n",
    "# Model fit\n",
    "yhat_xgb = xgb_model.predict_proba(x_val)"
   ]
  },
  {
   "cell_type": "code",
   "execution_count": 56,
   "id": "c6b384e4",
   "metadata": {},
   "outputs": [
    {
     "data": {
      "text/plain": [
       "<AxesSubplot:title={'center':'Cumulative Gains Curve'}, xlabel='Percentage of sample', ylabel='Gain'>"
      ]
     },
     "execution_count": 56,
     "metadata": {},
     "output_type": "execute_result"
    },
    {
     "data": {
      "image/png": "[encoded data removed]",
      "text/plain": [
       "<Figure size 432x288 with 1 Axes>"
      ]
     },
     "metadata": {
      "needs_background": "light"
     },
     "output_type": "display_data"
    }
   ],
   "source": [
    "# Accumulative gain\n",
    "skplt.metrics.plot_cumulative_gain(y_val, yhat_xgb)"
   ]
  },
  {
   "cell_type": "code",
   "execution_count": 57,
   "id": "e1950588",
   "metadata": {},
   "outputs": [
    {
     "data": {
      "text/plain": [
       "<AxesSubplot:title={'center':'Lift Curve'}, xlabel='Percentage of sample', ylabel='Lift'>"
      ]
     },
     "execution_count": 57,
     "metadata": {},
     "output_type": "execute_result"
    },
    {
     "data": {
      "image/png": "[encoded data removed]",
      "text/plain": [
       "<Figure size 432x288 with 1 Axes>"
      ]
     },
     "metadata": {
      "needs_background": "light"
     },
     "output_type": "display_data"
    }
   ],
   "source": [
    "# Lift Curve\n",
    "skplt.metrics.plot_lift_curve(y_val, yhat_xgb)"
   ]
  },
  {
   "cell_type": "markdown",
   "id": "100f3fb1",
   "metadata": {},
   "source": [
    "# 8.0. Performance"
   ]
  },
  {
   "cell_type": "code",
   "execution_count": 65,
   "id": "07017e42",
   "metadata": {
    "ExecuteTime": {
     "end_time": "2022-05-20T09:37:30.799900Z",
     "start_time": "2022-05-20T09:37:29.877282Z"
    }
   },
   "outputs": [],
   "source": [
    "def Precision_at_k( data, k=2000, column_target='response'):\n",
    "\n",
    "    # sort clients by propensity score\n",
    "    data = data.sort_values( 'score', ascending=False )\n",
    "    \n",
    "    # Reset Index\n",
    "    data = data.reset_index( drop=True )\n",
    "\n",
    "    # Create Ranking order\n",
    "    data['ranking'] = data.index + 1\n",
    "\n",
    "    data['precision_at_k'] = data[column_target].cumsum() / data['ranking']\n",
    "\n",
    "    return data.loc[k, 'precision_at_k']"
   ]
  },
  {
   "cell_type": "code",
   "execution_count": 66,
   "id": "fa7b6606",
   "metadata": {
    "ExecuteTime": {
     "end_time": "2022-05-20T09:37:31.016306Z",
     "start_time": "2022-05-20T09:37:30.922478Z"
    }
   },
   "outputs": [],
   "source": [
    "def Recall_at_k( data, k=2000, column_target='response'):\n",
    "    \n",
    "    # sort clients by propensity score\n",
    "    data = data.sort_values( 'score', ascending=False )\n",
    "\n",
    "    # Reset Index\n",
    "    data = data.reset_index( drop=True )\n",
    "\n",
    "    # Create Ranking order\n",
    "    data['ranking'] = data.index + 1\n",
    "\n",
    "    data['recall_at_k'] = data[column_target].cumsum() / data['response'].sum()\n",
    "\n",
    "    return data.loc[k, 'recall_at_k']"
   ]
  },
  {
   "cell_type": "markdown",
   "id": "e0489a80",
   "metadata": {
    "heading_collapsed": true
   },
   "source": [
    "## 8.1. Performance at K - KNN"
   ]
  },
  {
   "cell_type": "code",
   "execution_count": 68,
   "id": "c8cab379",
   "metadata": {
    "ExecuteTime": {
     "end_time": "2022-05-20T09:37:44.843500Z",
     "start_time": "2022-05-20T09:37:31.355748Z"
    },
    "hidden": true
   },
   "outputs": [
    {
     "name": "stdout",
     "output_type": "stream",
     "text": [
      "Precision at K:0.24308784560771962\n",
      "Recall at K:0.5188900747065102\n"
     ]
    }
   ],
   "source": [
    "df8 = x_validation.copy()\n",
    "df8['response'] = y_validation.copy()\n",
    "\n",
    "# Propensity Score\n",
    "df8['score'] = yhat_knn[:,1].tolist()\n",
    "\n",
    "# Compute precision at K\n",
    "precision_at_50 = Precision_at_k(df8, 20000)\n",
    "print(f'Precision at K:{precision_at_50}')\n",
    "      \n",
    "# Compute recall at K\n",
    "recall_at_50 = Recall_at_k(df8, 20000)\n",
    "print(f'Recall at K:{recall_at_50}')"
   ]
  },
  {
   "cell_type": "markdown",
   "id": "e0489a80",
   "metadata": {
    "heading_collapsed": true
   },
   "source": [
    "## 8.2. Performance at Linear Regression"
   ]
  },
  {
   "cell_type": "code",
   "execution_count": 69,
   "id": "c8cab379",
   "metadata": {
    "ExecuteTime": {
     "end_time": "2022-05-20T09:37:44.843500Z",
     "start_time": "2022-05-20T09:37:31.355748Z"
    },
    "hidden": true
   },
   "outputs": [
    {
     "name": "stdout",
     "output_type": "stream",
     "text": [
      "Precision at K:0.28808559572021397\n",
      "Recall at K:0.6149413020277481\n"
     ]
    }
   ],
   "source": [
    "df8 = x_validation.copy()\n",
    "df8['response'] = y_validation.copy()\n",
    "\n",
    "# Propensity Score\n",
    "df8['score'] = yhat_lr[:,1].tolist()\n",
    "\n",
    "# Compute precision at K\n",
    "precision_at_50 = Precision_at_k(df8, 20000)\n",
    "print(f'Precision at K:{precision_at_50}')\n",
    "      \n",
    "# Compute recall at K\n",
    "recall_at_50 = Recall_at_k(df8, 20000)\n",
    "print(f'Recall at K:{recall_at_50}')"
   ]
  },
  {
   "cell_type": "markdown",
   "id": "e0489a80",
   "metadata": {
    "heading_collapsed": true
   },
   "source": [
    "## 8.3. Performance at XGBoost"
   ]
  },
  {
   "cell_type": "code",
   "execution_count": 70,
   "id": "c8cab379",
   "metadata": {
    "ExecuteTime": {
     "end_time": "2022-05-20T09:37:44.843500Z",
     "start_time": "2022-05-20T09:37:31.355748Z"
    },
    "hidden": true
   },
   "outputs": [
    {
     "name": "stdout",
     "output_type": "stream",
     "text": [
      "Precision at K:0.33318334083295836\n",
      "Recall at K:0.7112059765208111\n"
     ]
    }
   ],
   "source": [
    "df8 = x_validation.copy()\n",
    "df8['response'] = y_validation.copy()\n",
    "\n",
    "# Propensity Score\n",
    "df8['score'] = yhat_xgb[:,1].tolist()\n",
    "\n",
    "# Compute precision at K\n",
    "precision_at_50 = Precision_at_k(df8, 20000)\n",
    "print(f'Precision at K:{precision_at_50}')\n",
    "      \n",
    "# Compute recall at K\n",
    "recall_at_50 = Recall_at_k(df8, 20000)\n",
    "print(f'Recall at K:{recall_at_50}')"
   ]
  },
  {
   "cell_type": "markdown",
   "id": "27f9273c",
   "metadata": {
    "heading_collapsed": true
   },
   "source": [
    "# 9.0. Ajuste fino de hiperparâmetros"
   ]
  },
  {
   "cell_type": "markdown",
   "id": "d5f22a7d",
   "metadata": {},
   "source": [
    "Será feito nos próximos ciclos"
   ]
  },
  {
   "cell_type": "markdown",
   "id": "9e496105",
   "metadata": {
    "heading_collapsed": true
   },
   "source": [
    "# 10.0. Converter o desempenho do modelo em valores de negócios"
   ]
  },
  {
   "cell_type": "markdown",
   "id": "d5f22a7d",
   "metadata": {},
   "source": [
    "Será feito nos próximos ciclos"
   ]
  },
  {
   "cell_type": "markdown",
   "id": "851ce288",
   "metadata": {},
   "source": [
    "# 11.0. Deploy do Modelo em Produção"
   ]
  },
  {
   "cell_type": "markdown",
   "id": "f2b8a309",
   "metadata": {},
   "source": [
    "Decicido utilizar o modelo de regressão linear devido a performance apresentada e a o baixo tempo de treinamento.\n",
    "\n",
    "Porém XGBoost também teve ótimo desempenho. Para o proximo ciclo juntamente com finetuning e melhoria na feature engennering montar tabela de comparação entre os modelos para avalidar o desempenho."
   ]
  },
  {
   "cell_type": "code",
   "execution_count": 67,
   "id": "923377d7",
   "metadata": {
    "ExecuteTime": {
     "end_time": "2022-05-20T23:05:26.967378Z",
     "start_time": "2022-05-20T23:05:26.728376Z"
    }
   },
   "outputs": [],
   "source": [
    "# Save trained model\n",
    "pickle.dump(lr_model, open('../src/models/model_linear_regression.pkl', 'wb'))"
   ]
  },
  {
   "cell_type": "code",
   "execution_count": 93,
   "id": "afa38ecf",
   "metadata": {},
   "outputs": [
    {
     "data": {
      "text/plain": [
       "LogisticRegression(n_jobs=-3, random_state=42)"
      ]
     },
     "execution_count": 93,
     "metadata": {},
     "output_type": "execute_result"
    }
   ],
   "source": [
    "pickle.load(open('../src/models/model_linear_regression.pkl', 'rb'))"
   ]
  },
  {
   "cell_type": "markdown",
   "id": "f81fb5c8",
   "metadata": {
    "heading_collapsed": true
   },
   "source": [
    "## 11.1. Halth Insurance Class"
   ]
  },
  {
   "cell_type": "code",
   "execution_count": 171,
   "id": "9a06818e",
   "metadata": {
    "hidden": true
   },
   "outputs": [],
   "source": [
    "import pickle\n",
    "import numpy as np\n",
    "import pandas as pd\n",
    "\n",
    "class HealthInsurance(object):\n",
    "    def __init__( self ):\n",
    "        print('__init__')\n",
    "        self.home_path = '../src/'\n",
    "\n",
    "        # Standardization\n",
    "        self.annual_premium_scaler = pickle.load(open(self.home_path + 'features/annual_premium_scaler.pkl', 'rb'))\n",
    "        # Rescaling\n",
    "        self.age_scaler = pickle.load(open(self.home_path + 'features/age_scaler.pkl', 'rb'))\n",
    "        self.vintage_scaler = pickle.load(open(self.home_path + 'features/vintage_scaler.pkl', 'rb'))\n",
    "        # Encoder\n",
    "        self.target_encode_gender_scaler = pickle.load(open(self.home_path + 'features/target_encode_gender_scaler.pkl', 'rb'))\n",
    "        self.target_encode_region_code_scaler = pickle.load(open(self.home_path + 'features/target_encode_region_code_scaler.pkl', 'rb'))\n",
    "        self.te_policy_sales_chanel_scaler = pickle.load(open(self.home_path + 'features/te_policy_sales_chanel_scaler.pkl', 'rb'))\n",
    "        \n",
    "    def data_cleaning( self, df1 ):\n",
    "        print('data_cleaning')\n",
    "        cols_new = ['id', 'gender', 'age', 'driving_license', 'region_code',\n",
    "                    'previously_insured', 'vehicle_age', 'vehicle_damage', 'annual_premium',\n",
    "                    'policy_sales_channel', 'vintage', 'response']\n",
    "        df1.columns = cols_new\n",
    "        \n",
    "        return df1\n",
    "        \n",
    "    def feature_engineering( self, df2):\n",
    "        print('feature_engineering')\n",
    "\n",
    "        # Vehicle age\n",
    "        df2['vehicle_age'] = df2['vehicle_age'].apply(lambda x: 'over_2_years' if x=='> 2 Years' else 'between_1_2_year' \n",
    "                                                        if x=='1-2 Year' else 'below_1_year')\n",
    "\n",
    "        # vehicle damage\n",
    "        df2['vehicle_damage'] = df2['vehicle_damage'].apply(lambda x: 1 if x=='Yes' else 0)\n",
    "\n",
    "        return df2\n",
    "        \n",
    "    def data_preparation( self, df5 ):\n",
    "        print('data_preparation')\n",
    "\n",
    "        # annual_premium\n",
    "        df5['annual_premium'] = self.annual_premium_scaler.transform(df5[['annual_premium']].values)\n",
    "\n",
    "        # Age\n",
    "        df5['age'] = self.age_scaler.transform(df5[['age']].values)\n",
    "        # print(df5[['age']].values)\n",
    "        # print(self.target_encode_region_code_scaler)\n",
    "\n",
    "        # vintage\n",
    "        df5['vintage'] = self.vintage_scaler.transform(df5[['vintage']].values)\n",
    "\n",
    "        # gender -> One Hot Encoding / Frequency Encoding        \n",
    "        df5.loc[:, 'gender'] = df5['gender'].map(self.target_encode_gender_scaler)\n",
    "\n",
    "        # region_code -> Target Encoding / Frequency Encoding / Weighted Target Encoding        \n",
    "        df5.loc[:, 'region_code'] = df5['region_code'].map(self.target_encode_region_code_scaler)\n",
    "\n",
    "        # vehicle_age -> One Hot Encoding / Order Encoding / Frequency Encoding \n",
    "        df5 = pd.get_dummies(df5, prefix='vehicle_age', columns=['vehicle_age'])\n",
    "\n",
    "        # policy_sales_channel - > Frequency Encoding / Target Encoding\n",
    "        df5.loc[:, 'policy_sales_channel'] = df5['policy_sales_channel'].map(self.te_policy_sales_chanel_scaler)\n",
    "\n",
    "        cols_selected = ['annual_premium', 'vintage', 'age', 'region_code', 'vehicle_damage', 'previously_insured', 'policy_sales_channel']\n",
    "\n",
    "        return df5[cols_selected]\n",
    "        \n",
    "    def get_prediction(self, model, original_data, test_data):\n",
    "        print('get_prediction')\n",
    "        # Model\n",
    "        pred = model.predict_proba(test_data)\n",
    "\n",
    "        # Une a predição com dados originais\n",
    "        original_data['score'] = pred[:, 1].tolist()\n",
    "\n",
    "        return original_data.to_json(orient='records', date_format='iso')\n",
    "\n",
    "\n",
    "# teste_raw = df_test.copy()\n",
    "\n",
    "# pipeline = HealthInsurance()\n",
    "# df = pipeline.data_cleaning(teste_raw)\n",
    "# df = pipeline.feature_engineering(df)\n",
    "# df = pipeline.data_preparation(df)\n",
    "# df        "
   ]
  },
  {
   "cell_type": "markdown",
   "id": "ad7b4359",
   "metadata": {
    "heading_collapsed": true
   },
   "source": [
    "## 11.2. Handler API"
   ]
  },
  {
   "cell_type": "code",
   "execution_count": null,
   "id": "eb1211a0",
   "metadata": {},
   "outputs": [],
   "source": [
    "import datetime\n",
    "import pickle\n",
    "import pandas as pd\n",
    "import os\n",
    "from flask import Flask, request, Response\n",
    "import healthinsurance import HealthInsurance as hi\n",
    "\n",
    "# Carragando modelo\n",
    "model = pickle.load(open('models/model_linear_regression.pkl', 'rb'))\n",
    "\n",
    "app = Flask(__name__)\n",
    "\n",
    "@app.route('/status', methods=['GET'])\n",
    "def status():\n",
    "    return Response('Api HealthInsurance - Status Online {}'.format(datetime.datetime.today()), status=200, mimetype='application/json')\n",
    "\n",
    "@app.route('/predict', methods=['POST'])\n",
    "def health_insurance_predict():\n",
    "    test_json = request.get_json()\n",
    "\n",
    "    if not test_json:\n",
    "        return Response('{}', status=200, mimetype='application/json')\n",
    "\n",
    "    if isinstance(test_json, dict):\n",
    "        teste_raw = pd.DataFrame(test_json, index=[0])\n",
    "    else:\n",
    "        teste_raw = pd.DataFrame(test_json, columns=test_json[0].keys())\n",
    "\n",
    "    pipeline = hi.HealthInsurance()\n",
    "    df = pipeline.data_cleaning(teste_raw)\n",
    "    df = pipeline.feature_engineering(df)\n",
    "    df = pipeline.data_preparation(df)\n",
    "\n",
    "    return pipeline.get_prediction(model, teste_raw, df)\n",
    "\n",
    "if __name__ == '__main__':\n",
    "    # Heroku\n",
    "    # port = os.environ.get('PORT', 5000)\n",
    "    # app.run('0.0.0.0', port=port)\n",
    "    # Local\n",
    "    app.run('0.0.0.0', debug=True)"
   ]
  },
  {
   "cell_type": "markdown",
   "id": "6f2ab979",
   "metadata": {
    "heading_collapsed": true
   },
   "source": [
    "## 11.3. Teste API"
   ]
  },
  {
   "cell_type": "code",
   "execution_count": 42,
   "id": "5a685b88",
   "metadata": {},
   "outputs": [],
   "source": [
    "import requests\n",
    "import json"
   ]
  },
  {
   "cell_type": "code",
   "execution_count": 68,
   "id": "85488731",
   "metadata": {},
   "outputs": [
    {
     "data": {
      "text/plain": [
       "'[{\"id\": 40647, \"gender\": \"Female\", \"age\": 33, \"driving_license\": 1, \"region_code\": 3.0, \"previously_insured\": 0, \"vehicle_age\": \"1-2 Year\", \"vehicle_damage\": \"Yes\", \"annual_premium\": 20190.0, \"policy_sales_channel\": 154.0, \"vintage\": 135, \"response\": 1}, {\"id\": 114587, \"gender\": \"Male\", \"age\": 64, \"driving_license\": 1, \"region_code\": 8.0, \"previously_insured\": 0, \"vehicle_age\": \"1-2 Year\", \"vehicle_damage\": \"Yes\", \"annual_premium\": 49860.0, \"policy_sales_channel\": 124.0, \"vintage\": 105, \"response\": 0}]'"
      ]
     },
     "execution_count": 68,
     "metadata": {},
     "output_type": "execute_result"
    }
   ],
   "source": [
    "df_test = x_validation\n",
    "df_test['response'] = y_validation\n",
    "\n",
    "# df_test.sample(50).to_csv('sample_df_test.csv', index=False)\n",
    "\n",
    "# Usar apenas 10 exemplos para facilitar o teste.\n",
    "df_test = df_test.sample(2)\n",
    "\n",
    "data = json.dumps(df_test.to_dict(orient='records'))\n",
    "data\n"
   ]
  },
  {
   "cell_type": "code",
   "execution_count": 69,
   "id": "a49ff7d5",
   "metadata": {},
   "outputs": [
    {
     "name": "stdout",
     "output_type": "stream",
     "text": [
      "Status Code 200\n"
     ]
    },
    {
     "data": {
      "text/plain": [
       "[{'id': 40647,\n",
       "  'gender': 0.1043357143,\n",
       "  'age': 0.2,\n",
       "  'driving_license': 1,\n",
       "  'region_code': 0.1275023512,\n",
       "  'previously_insured': 0,\n",
       "  'vehicle_age': 'between_1_2_year',\n",
       "  'vehicle_damage': 1,\n",
       "  'annual_premium': -0.6029335541,\n",
       "  'policy_sales_channel': 154.0,\n",
       "  'vintage': 0.4325259516,\n",
       "  'response': 1,\n",
       "  'score': 0.2720145832},\n",
       " {'id': 114587,\n",
       "  'gender': 0.1384099414,\n",
       "  'age': 0.6769230769,\n",
       "  'driving_license': 1,\n",
       "  'region_code': 0.0953277236,\n",
       "  'previously_insured': 0,\n",
       "  'vehicle_age': 'between_1_2_year',\n",
       "  'vehicle_damage': 1,\n",
       "  'annual_premium': 1.1216739442,\n",
       "  'policy_sales_channel': 124.0,\n",
       "  'vintage': 0.3287197232,\n",
       "  'response': 0,\n",
       "  'score': 0.2076047728}]"
      ]
     },
     "execution_count": 69,
     "metadata": {},
     "output_type": "execute_result"
    }
   ],
   "source": [
    "# Chamada na API\n",
    "url = 'http://localhost:5000/predict'\n",
    "url = 'https://health-insurance-ranking-cs.herokuapp.com/predict'\n",
    "header = {'Content-type': 'application/json'}\n",
    "\n",
    "req = requests.post(url, data=data, headers=header)\n",
    "print('Status Code {}'.format(req.status_code))\n",
    "req.json()"
   ]
  },
  {
   "cell_type": "code",
   "execution_count": 179,
   "id": "9b3a236f",
   "metadata": {},
   "outputs": [
    {
     "data": {
      "text/plain": [
       "<Response [200]>"
      ]
     },
     "execution_count": 179,
     "metadata": {},
     "output_type": "execute_result"
    }
   ],
   "source": [
    "url = 'https://health-insurance-ranking-cs.herokuapp.com/status'\n",
    "header = {'Content-type': 'application/json'}\n",
    "\n",
    "req = requests.get(url)\n",
    "req\n",
    "# print('Status Code {}'.format(req))"
   ]
  },
  {
   "cell_type": "code",
   "execution_count": 173,
   "id": "4ee1f742",
   "metadata": {},
   "outputs": [],
   "source": [
    "# Teste da classe\n",
    "\n",
    "# teste_raw = df_test.copy()\n",
    "# model = pickle.load(open('../src/models/model_linear_regression.pkl', 'rb'))\n",
    "\n",
    "# pipeline = HealthInsurance()\n",
    "# df = pipeline.data_cleaning(teste_raw)\n",
    "# df = pipeline.feature_engineering(df)\n",
    "# df = pipeline.data_preparation(df)\n",
    "# predict = pipeline.get_prediction(model, teste_raw, df)\n",
    "# predict\n",
    "# # df"
   ]
  }
 ],
 "metadata": {
  "kernelspec": {
   "display_name": "Python 3.8.12 ('dsEmProducao')",
   "language": "python",
   "name": "python3"
  },
  "language_info": {
   "codemirror_mode": {
    "name": "ipython",
    "version": 3
   },
   "file_extension": ".py",
   "mimetype": "text/x-python",
   "name": "python",
   "nbconvert_exporter": "python",
   "pygments_lexer": "ipython3",
   "version": "3.8.12"
  },
  "vscode": {
   "interpreter": {
    "hash": "177a8e1dbf29790e9e7d9d3f11d86387ecb47e4a75042ce3b464531a9b923f09"
   }
  }
 },
 "nbformat": 4,
 "nbformat_minor": 5
}
